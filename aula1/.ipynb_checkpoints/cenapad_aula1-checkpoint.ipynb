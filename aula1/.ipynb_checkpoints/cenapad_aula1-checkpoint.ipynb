{
 "cells": [
  {
   "cell_type": "markdown",
   "metadata": {},
   "source": [
    "<img src=cenapad.jpg align=left><BR><BR><BR><BR><BR><BR>\n",
    "<h1>Curso de Introdução à linguagem Python </h1>\n",
    "<img src=python-logo.png align=left>"
   ]
  },
  {
   "cell_type": "markdown",
   "metadata": {},
   "source": [
    "# Uma Breve História do Python"
   ]
  },
  {
   "cell_type": "markdown",
   "metadata": {},
   "source": [
    "A linguagem Python foi conceitualizada por Guido van Rossum no fim dos anos 80 na Holanda. Guido trabalhava com uma linguagem de programação chamada ABC para um sistema operacional distribuído chamado Amoeba. Em dezembro de 1989, Guido procurava um hobby para entretê-lo na semana anterior ao Natal. Em suas palavras:"
   ]
  },
  {
   "cell_type": "markdown",
   "metadata": {},
   "source": [
    "<em>\" ... em dezembro de 1989, eu estava procurando por um projeto de programação como \"hobby\" que me mantivesse ocupado durante a semana próxima ao Natal. Meu escritório... estaria fechado, mas eu tinha um computador em casa e não muito mais do que isso em mãos. Eu decidi escrever um interpretador para a nova linguagem de scripting sobre a qual eu vinha pensando ultimamente: uma descendente da ABC que agradaria a hackers de Unix/C. Escolhi Python como um título provisório para o projeto, sendo que eu estava num humor um pouco irreverente (e sendo também um grande fã do Monty Python's Flying Circus)\"</em>\n",
    "<img src=montypython.jpg>\n",
    "\n",
    "<em>\"Lembrei-me de toda a minha experiência e um pouco da minha frustração com a ABC. Eu decidi tentar criar uma linguagem de script simples que possuísse algumas das melhores propriedades da ABC, mas sem seus problemas. Então comecei a digitar. Eu criei uma máquina virtual simples, um analisador sintático simples e uma plataforma de execução simples. Eu fiz minha própria versão das várias partes do ABC que eu gostava. Criei uma sintaxe básica, usei indentação para agrupamento de instruções em vez de chaves ou blocos begin-end e desenvolvi um pequeno número de tipos de dados poderosos: uma tabela hash (ou dicionário, como nós chamamos), uma lista, strings e números.\"</em>\n"
   ]
  },
  {
   "cell_type": "code",
   "execution_count": 1,
   "metadata": {},
   "outputs": [
    {
     "name": "stdout",
     "output_type": "stream",
     "text": [
      "Hello World\n"
     ]
    }
   ],
   "source": [
    "#Hello World\n",
    "print(\"Hello World\")"
   ]
  },
  {
   "cell_type": "markdown",
   "metadata": {},
   "source": [
    "Guido publicou a primeira versão do código do Python (versão 0.9) em fevereiro de 1991 na Usenet (uma rede de newsgroup anterior à WWW). A linguagem Python já nasceu como open source. Guido copiou os termos de licenciamento do X11 do MIT. Desde a primeira versão, Python já era uma linguagem orientada a objetos e implementava tratamento de exceções, funções, módulos e tipos de dados como listas e dicionários."
   ]
  },
  {
   "cell_type": "markdown",
   "metadata": {},
   "source": [
    "Em 1994, Guido lançou a versão 1.0 implementando alguns recursos típicos de linguagens de programação funcionais tais como funções lambda, map, filter e reduce. Estes novos recursos foram adicionados por um membro da incipiente comunidade de desenvolvedores e a princípio não agradaram Guido. No entanto, desde os primórdios Python já era uma linguagem de programação genérica e era possível programar segundo o paradigma de orientação a objetos, estruturada ou funcional. Mais recentemente, foram implementados pacotes de programação lógica (o paradigma usado pelo Prolog), dando ao Python flexibilidade para intercambiar vários paradigmas de programação em um único código."
   ]
  },
  {
   "cell_type": "markdown",
   "metadata": {},
   "source": [
    "Na década de 1990, a linguagem Python ainda era pouco difundida, sendo desenvolvida e usada apenas por grupos de entusiastas e Guido centralizava as decisões de projeto. Quando mais pessoas começaram a se envolver no desenvolvimento da linguagem, percebeu-se que o projeto estava dependente demais de uma só pessoa e que isto não era seguro nem desejável. E se o Guido fosse atropelado por um ônibus? Ou contratado para desenvolver uma linguagem rival? Assim, a comunidade se reuniu de forma a formar a organização BeOpen.com, que lançou em 2000 a versão 2.0 do Python. Pouco depois a BeOpen deu origem à organização sem fins lucrativos <a href=www.python.org>Python Software Foundation (PSF)</a> que até hoje coordena o desenvolvimento da linguagem. Guido ainda exerce grande influência sobre os destinos do projeto, porém as decisões são tomadas de forma mais democrática pelo PSF. Na comunidade Python, Guido é denominado o Benevolente Ditador para a Vida."
   ]
  },
  {
   "cell_type": "markdown",
   "metadata": {},
   "source": [
    "<img src=guido.jpg>"
   ]
  },
  {
   "cell_type": "markdown",
   "metadata": {},
   "source": [
    "Em 2006, um ativo desenvolvedor da comunidade Python, Tim Peters, escreveu os princípios guia da linguagem num documento chamado The Zen of Python. Os 19 princípios podem ser acessados através de um \"easter egg\" mantido em todas as implementações do Python"
   ]
  },
  {
   "cell_type": "code",
   "execution_count": null,
   "metadata": {},
   "outputs": [],
   "source": [
    "import this"
   ]
  },
  {
   "cell_type": "markdown",
   "metadata": {},
   "source": [
    "Em português:<BR>\n",
    "<list>\n",
    "<li>Bonito é melhor que feio.</li>\n",
    "<li>Explícito é melhor que implícito.</li>\n",
    "<li>Simples é melhor que complexo.</li>\n",
    "<li>Complexo é melhor que complicado.</li>\n",
    "<li>Linear é melhor do que aninhado.</li>\n",
    "<li>Esparso é melhor que denso.</li>\n",
    "<li>Legibilidade conta.</li>\n",
    "<li>Casos especiais não são especiais o bastante para quebrar as regras.</li>\n",
    "<li>Ainda que praticidade vença a pureza.</li>\n",
    "<li>Erros nunca devem passar silenciosamente.</li>\n",
    "<li>A menos que sejam explicitamente silenciados.</li>\n",
    "<li>Diante da ambigüidade, recuse a tentação de adivinhar.</li>\n",
    "<li>Deveria haver um — e preferencialmente só um — modo óbvio para fazer algo.</li>\n",
    "<li>Embora esse modo possa não ser óbvio a princípio a menos que você seja holandês.</li>\n",
    "<li>Agora é melhor que nunca.</li>\n",
    "<li>Embora nunca freqüentemente seja melhor que já.</li>\n",
    "<li>Se a implementação é difícil de explicar, é uma má idéia.</li>\n",
    "<li>Se a implementação é fácil de explicar, pode ser uma boa idéia.</li>\n",
    "    <li>Namespaces são uma grande idéia — vamos ter mais dessas!</li></list>"
   ]
  },
  {
   "cell_type": "markdown",
   "metadata": {},
   "source": [
    "Ao longo dos anos 2000, o Python ganhou uma grande comunidade de usuários. Guido e a PSF decidiram que era hora de fazer uma faxina no código, uma completa reengenharia. Em 2008, após anos de discussões e testes, foi lançado o Python 3. Diferentemente dos outros releases, o Python 3 marcou uma quebra de compatibilidade com os códigos legados. Ainda hoje, há muito código em Python 2. No entanto, são poucas as diferenças na sintaxe e é relativamente fácil portar código legado para Python 3 em projetos de pequeno ou médio porte. As principais diferenças entre a sintaxe do Python 2 e 3 estão <a href=\"https://docs.python.org/3/whatsnew/3.0.html\"> neste documento </a>. Apesar do lançamento do Python 3, a linhagem da versão 2, atualmente 2.7, será mantida até 2020."
   ]
  },
  {
   "cell_type": "markdown",
   "metadata": {},
   "source": [
    "Neste curso, vamos usar principalmente Python 3. O futuro é Python 3 e, após 10 anos, a maioria dos pacotes de Python 2 já foram reescritos para Python 3, além de quase a totalidade dos novos pacotes. No entanto, indicaremos algumas boas referências para quem precise, por algum motivo, trabalhar com código em Python 2 ou mesmo portá-lo para Python 3."
   ]
  },
  {
   "cell_type": "markdown",
   "metadata": {},
   "source": [
    "# Objetivos do curso"
   ]
  },
  {
   "cell_type": "markdown",
   "metadata": {},
   "source": [
    "Iremos introduzir a sintaxe básica da linguagem Python e alguns módulos da biblioteca padrão. Com este conhecimento, espera-se que o aluno consiga fazer seus primeiros códigos e consiga por sua própria conta consultar documentações, usar os fóruns e manuais na internet para tudo o mais. "
   ]
  },
  {
   "cell_type": "markdown",
   "metadata": {},
   "source": [
    "# Programas em Python"
   ]
  },
  {
   "cell_type": "markdown",
   "metadata": {},
   "source": [
    "Os programas em Python geralmente são armazenados em arquivos de texto com extensão \".py\"\n",
    "Exemplo: hello_world.py"
   ]
  },
  {
   "cell_type": "markdown",
   "metadata": {},
   "source": [
    "Cada linha de um programa Python contém um comando (ou parte de um comando). A exceção são os comentários que são linhas que começam com #."
   ]
  },
  {
   "cell_type": "code",
   "execution_count": null,
   "metadata": {},
   "outputs": [],
   "source": [
    "#Olá. Isto é um comentário"
   ]
  },
  {
   "cell_type": "markdown",
   "metadata": {},
   "source": [
    "Percebeu a utilização de caracteres acentuados? Os programas em python usam codificação UTF-8, que pode representar, com dois bytes, caracteres latinos, do alfabeto grego, cirílico etc."
   ]
  },
  {
   "cell_type": "code",
   "execution_count": null,
   "metadata": {},
   "outputs": [],
   "source": [
    "print(\"Γειά σου Κόσμε!\")"
   ]
  },
  {
   "cell_type": "markdown",
   "metadata": {},
   "source": [
    "A função print também aceita vários parâmetros."
   ]
  },
  {
   "cell_type": "code",
   "execution_count": null,
   "metadata": {},
   "outputs": [],
   "source": [
    "print(\"Abacate\",\"banana\",\"café\")"
   ]
  },
  {
   "cell_type": "markdown",
   "metadata": {},
   "source": [
    "Notou o espaço que o interpretador colocou entre \"Olá\" e \"Pessoal\"? O caracter de espaço é o separador default da função print. O terminador default é um linefeed \"\\n\". Mas podemos mudar isso."
   ]
  },
  {
   "cell_type": "code",
   "execution_count": null,
   "metadata": {},
   "outputs": [],
   "source": [
    "print(\"Abacate\",\"banana\",\"café\",sep=\", \",end=\".\")"
   ]
  },
  {
   "cell_type": "markdown",
   "metadata": {},
   "source": [
    "A documentação das funções em python pode ser acessada da seguinte forma:"
   ]
  },
  {
   "cell_type": "code",
   "execution_count": null,
   "metadata": {},
   "outputs": [],
   "source": [
    "?print"
   ]
  },
  {
   "cell_type": "markdown",
   "metadata": {},
   "source": [
    "Notem que além dos parâmetros \"sep\" e \"end\" também temos o parâmetro file. O default do parâmetro file é a saída padrão (stdout). Mas podemos fazê-lo imprimir em um arquivo."
   ]
  },
  {
   "cell_type": "code",
   "execution_count": null,
   "metadata": {},
   "outputs": [],
   "source": [
    "print(\"Abacate\",\"banana\",\"café\",sep=\", \",end=\".\",file=open(\"lista_de_compras.txt\",\"w\"))"
   ]
  },
  {
   "cell_type": "markdown",
   "metadata": {},
   "source": [
    "Podemos usar comandos do bash aqui no Jupyter também. Basta começar a linha com um caracter de exclamação (!). Vamos ver se o arquivo \"lista_de_compras.txt\" foi criado."
   ]
  },
  {
   "cell_type": "code",
   "execution_count": null,
   "metadata": {},
   "outputs": [],
   "source": [
    "!ls"
   ]
  },
  {
   "cell_type": "code",
   "execution_count": null,
   "metadata": {},
   "outputs": [],
   "source": [
    "!cat lista_de_compras.txt"
   ]
  },
  {
   "cell_type": "markdown",
   "metadata": {},
   "source": [
    "O segundo parâmetro que passamos ao abrir um arquivo foi um \"w\". Isto significa que o arquivo foi aberto para escrita, porém todo seu conteúdo foi apagado antes. Veja o help da função open com ?open para ver como podemos abrir um arquivo para leitura, append, em modo binário etc."
   ]
  },
  {
   "cell_type": "code",
   "execution_count": null,
   "metadata": {},
   "outputs": [],
   "source": [
    "?open"
   ]
  },
  {
   "cell_type": "markdown",
   "metadata": {},
   "source": [
    "No ambiente Linux, os programas em Python devem conter o caminho do interpretador python na primeira linha. Se vc quiser usar o interpretador python padrão do sistema use \"#!/usr/bin/env python\". Use qualquer editor de texto como gedit, vim, nano ou outro que você estiver habituado para escrever seu primeiro programa em Python. Salve-o como hello_world.py , acrescente permissões de execução com chmod e em seguida execute-o com ./hello_world.py "
   ]
  },
  {
   "cell_type": "raw",
   "metadata": {},
   "source": [
    "#!/usr/bin/env python\n",
    "print(\"Hello World\")"
   ]
  },
  {
   "cell_type": "markdown",
   "metadata": {},
   "source": [
    "# Variáveis"
   ]
  },
  {
   "cell_type": "markdown",
   "metadata": {},
   "source": [
    "Variáveis são usadas para armazenar dados na memória para serem manipulados pelo seu programa. Simplificadamente, podemos dizer que variáveis são rótulos (nomes) aos quais podemos atribuir valores (dados)."
   ]
  },
  {
   "cell_type": "code",
   "execution_count": null,
   "metadata": {},
   "outputs": [],
   "source": [
    "x = 7"
   ]
  },
  {
   "cell_type": "code",
   "execution_count": null,
   "metadata": {},
   "outputs": [],
   "source": [
    "print(x)"
   ]
  },
  {
   "cell_type": "markdown",
   "metadata": {},
   "source": [
    "Depois de atribuir o valor de 7 à variável x, você pode usá-la no lugar do número 7."
   ]
  },
  {
   "cell_type": "code",
   "execution_count": null,
   "metadata": {},
   "outputs": [],
   "source": [
    "x+x"
   ]
  },
  {
   "cell_type": "code",
   "execution_count": null,
   "metadata": {},
   "outputs": [],
   "source": [
    "x+2"
   ]
  },
  {
   "cell_type": "markdown",
   "metadata": {},
   "source": [
    "Uma variável também pode conter texto (strings no jargão de linguagens )"
   ]
  },
  {
   "cell_type": "code",
   "execution_count": null,
   "metadata": {},
   "outputs": [],
   "source": [
    "x = \"abacate\""
   ]
  },
  {
   "cell_type": "code",
   "execution_count": null,
   "metadata": {},
   "outputs": [],
   "source": [
    "print(x)"
   ]
  },
  {
   "cell_type": "markdown",
   "metadata": {},
   "source": [
    "Os nomes de variáveis podem ser compostos de letras minúsculas, maiúsculas, dígitos e do caracter underscore ( _ ). No entanto, o primeiro caracter de um nome de variável obrigatoriamente deve ser alguma letra ou underscore."
   ]
  },
  {
   "cell_type": "code",
   "execution_count": null,
   "metadata": {},
   "outputs": [],
   "source": [
    "fruta1=\"abacate\" "
   ]
  },
  {
   "cell_type": "code",
   "execution_count": null,
   "metadata": {},
   "outputs": [],
   "source": [
    "print(fruta1)"
   ]
  },
  {
   "cell_type": "code",
   "execution_count": null,
   "metadata": {},
   "outputs": [],
   "source": [
    "1fruta = \"abacate\""
   ]
  },
  {
   "cell_type": "markdown",
   "metadata": {},
   "source": [
    "Python é CASE SENSITIVE. Ou seja, ele diferencia letras maiúsculas e minúsculas."
   ]
  },
  {
   "cell_type": "code",
   "execution_count": null,
   "metadata": {},
   "outputs": [],
   "source": [
    "fruta=\"abacate\"\n",
    "Fruta=\"manga\""
   ]
  },
  {
   "cell_type": "code",
   "execution_count": null,
   "metadata": {},
   "outputs": [],
   "source": [
    "print(fruta)"
   ]
  },
  {
   "cell_type": "code",
   "execution_count": null,
   "metadata": {},
   "outputs": [],
   "source": [
    "print(Fruta)"
   ]
  },
  {
   "cell_type": "markdown",
   "metadata": {},
   "source": [
    "Diferente da maioria das linguagens de programação, são permitidos caracteres acentuados ou de outros alfabetos no nome das variáveis. No entanto, por uma questão de legibilidade, recomenda-se não usá-los."
   ]
  },
  {
   "cell_type": "code",
   "execution_count": null,
   "metadata": {},
   "outputs": [],
   "source": [
    "árvore=\"abacateiro\" #Isto é válido, porém não é recomendado"
   ]
  },
  {
   "cell_type": "code",
   "execution_count": null,
   "metadata": {},
   "outputs": [],
   "source": [
    "print(árvore)"
   ]
  },
  {
   "cell_type": "markdown",
   "metadata": {},
   "source": [
    "# Atribuição de variáveis"
   ]
  },
  {
   "cell_type": "markdown",
   "metadata": {},
   "source": [
    "Em matemática é comum usar nomes de variáveis com uma única letra. Na matemática, geralmente se usa variáveis para representar um número cujo valor é desconhecido. Em programação, variáveis têm um sentido bem diferente. Variáveis são como caixinhas onde podemos colocar valores, textos e dados em geral. A atribuição de variáveis é feita da direita para esquerda. Assim, ao fazermos x=1, estamos atribuindo o valor de 1 à variável x. O sinal de igual (=) representa atribuição e não igualdade."
   ]
  },
  {
   "cell_type": "code",
   "execution_count": null,
   "metadata": {},
   "outputs": [],
   "source": [
    "x = 2\n",
    "print(x)"
   ]
  },
  {
   "cell_type": "code",
   "execution_count": null,
   "metadata": {},
   "outputs": [],
   "source": [
    "x = y = 5\n",
    "print(x,y)"
   ]
  },
  {
   "cell_type": "code",
   "execution_count": null,
   "metadata": {},
   "outputs": [],
   "source": [
    "fruta=\"manga\"\n",
    "print(fruta)"
   ]
  },
  {
   "cell_type": "markdown",
   "metadata": {},
   "source": [
    "# Operadores"
   ]
  },
  {
   "cell_type": "markdown",
   "metadata": {},
   "source": [
    "Os operadores matemáticos em Python são:\n",
    "####   + (soma)\n",
    "####   - (subtração)\n",
    "####   / (divisão)\n",
    "####   // (divisão inteira)\n",
    "####   ** (exponenciação)\n",
    "####   % (resto da divisão)"
   ]
  },
  {
   "cell_type": "markdown",
   "metadata": {},
   "source": [
    "Podemos combiná-los usando parênteses."
   ]
  },
  {
   "cell_type": "code",
   "execution_count": null,
   "metadata": {},
   "outputs": [],
   "source": [
    "resultado = (7+8)*2\n",
    "print(resultado)"
   ]
  },
  {
   "cell_type": "code",
   "execution_count": null,
   "metadata": {},
   "outputs": [],
   "source": [
    "resultado=9/2\n",
    "print(resultado)"
   ]
  },
  {
   "cell_type": "code",
   "execution_count": null,
   "metadata": {},
   "outputs": [],
   "source": [
    "divisao_inteira=9//2\n",
    "print(divisao_inteira)"
   ]
  },
  {
   "cell_type": "code",
   "execution_count": null,
   "metadata": {},
   "outputs": [],
   "source": [
    "resto_da_divisao_inteira=9//2\n",
    "print(resto_da_divisao_inteira)"
   ]
  },
  {
   "cell_type": "code",
   "execution_count": null,
   "metadata": {},
   "outputs": [],
   "source": [
    "x=3\n",
    "expressao = x**2 + 2*x + 1\n",
    "print(expressao)"
   ]
  },
  {
   "cell_type": "markdown",
   "metadata": {},
   "source": [
    "É possível reatribuir o valor de uma variável fazendo referência a ela mesma numa expressão"
   ]
  },
  {
   "cell_type": "code",
   "execution_count": null,
   "metadata": {},
   "outputs": [],
   "source": [
    "a = 10"
   ]
  },
  {
   "cell_type": "code",
   "execution_count": null,
   "metadata": {},
   "outputs": [],
   "source": [
    "a = a + 3"
   ]
  },
  {
   "cell_type": "code",
   "execution_count": null,
   "metadata": {},
   "outputs": [],
   "source": [
    "print(a)\n"
   ]
  },
  {
   "cell_type": "markdown",
   "metadata": {},
   "source": [
    "Podemos simplificar fazer um atalho para a reatribuição acima usando +="
   ]
  },
  {
   "cell_type": "code",
   "execution_count": null,
   "metadata": {},
   "outputs": [],
   "source": [
    "a=10\n",
    "a+=3"
   ]
  },
  {
   "cell_type": "code",
   "execution_count": null,
   "metadata": {},
   "outputs": [],
   "source": [
    "print(a)"
   ]
  },
  {
   "cell_type": "markdown",
   "metadata": {},
   "source": [
    "De forma análoga, Python também admite reatribuições com *= /= -= //= e **="
   ]
  },
  {
   "cell_type": "code",
   "execution_count": null,
   "metadata": {},
   "outputs": [],
   "source": [
    "valor=10"
   ]
  },
  {
   "cell_type": "code",
   "execution_count": null,
   "metadata": {},
   "outputs": [],
   "source": [
    "valor **=3"
   ]
  },
  {
   "cell_type": "code",
   "execution_count": null,
   "metadata": {},
   "outputs": [],
   "source": [
    "print(valor)"
   ]
  },
  {
   "cell_type": "markdown",
   "metadata": {},
   "source": [
    "# Operadores relacionais"
   ]
  },
  {
   "cell_type": "markdown",
   "metadata": {},
   "source": [
    "<table><tr><th>Operador</th><th>Significado</th></tr>\n",
    "<tr><td>==</td><td>é igual a</td></tr>\n",
    "<tr><td>!=</td><td>é diferente de</td></tr>\n",
    "<tr><td>></td><td>maior que</td></tr>\n",
    "<tr><td><</td><td>menor que</td></tr>\n",
    "<tr><td>>=</td><td>maior ou igual que</td></tr>\n",
    "<tr><td><=</td><td>menor ou igual que</td></tr>\n",
    "\n",
    "</table>"
   ]
  },
  {
   "cell_type": "code",
   "execution_count": null,
   "metadata": {},
   "outputs": [],
   "source": [
    "a=5"
   ]
  },
  {
   "cell_type": "code",
   "execution_count": null,
   "metadata": {},
   "outputs": [],
   "source": [
    "a==5"
   ]
  },
  {
   "cell_type": "code",
   "execution_count": null,
   "metadata": {},
   "outputs": [],
   "source": [
    "a!=5"
   ]
  },
  {
   "cell_type": "code",
   "execution_count": null,
   "metadata": {},
   "outputs": [],
   "source": [
    "a>10"
   ]
  },
  {
   "cell_type": "code",
   "execution_count": null,
   "metadata": {},
   "outputs": [],
   "source": [
    "a<10"
   ]
  },
  {
   "cell_type": "code",
   "execution_count": null,
   "metadata": {},
   "outputs": [],
   "source": [
    "a<5"
   ]
  },
  {
   "cell_type": "code",
   "execution_count": null,
   "metadata": {},
   "outputs": [],
   "source": [
    "a<=5"
   ]
  },
  {
   "cell_type": "code",
   "execution_count": null,
   "metadata": {},
   "outputs": [],
   "source": [
    "b=10"
   ]
  },
  {
   "cell_type": "code",
   "execution_count": null,
   "metadata": {},
   "outputs": [],
   "source": [
    "a<b"
   ]
  },
  {
   "cell_type": "markdown",
   "metadata": {},
   "source": [
    "# Tipagem dinâmica"
   ]
  },
  {
   "cell_type": "markdown",
   "metadata": {},
   "source": [
    "A linguagem Python admite que uma mesma variável ora contenha um tipo de dados, ora contenha outro tipo. As seguintes atribuições são válidas."
   ]
  },
  {
   "cell_type": "code",
   "execution_count": null,
   "metadata": {},
   "outputs": [],
   "source": [
    "y = 10 #inteiro\n",
    "type(y)"
   ]
  },
  {
   "cell_type": "code",
   "execution_count": null,
   "metadata": {},
   "outputs": [],
   "source": [
    "y = 4.578 #float\n",
    "type(y)"
   ]
  },
  {
   "cell_type": "code",
   "execution_count": null,
   "metadata": {},
   "outputs": [],
   "source": [
    "y = \"cachorro\" #String\n",
    "type(y)"
   ]
  },
  {
   "cell_type": "code",
   "execution_count": null,
   "metadata": {},
   "outputs": [],
   "source": [
    "y = [1,4,7,8,9] #Lista\n",
    "type(y)"
   ]
  },
  {
   "cell_type": "markdown",
   "metadata": {},
   "source": [
    "Há prós e contras relativos ao uso de tipagem dinâmica. A maior vantagem é que isto torna a escrita do código muito mais simples. A maior desvantagem é que, do ponto de vista computacional, isto é lento. Internamente, o interpretador Python precisa determinar o tipo de uma variável cada vez que seu valor é acessado. A possibilidade de introduzir erros inesperados no código também aumenta se não houver cuidado do programador."
   ]
  },
  {
   "cell_type": "markdown",
   "metadata": {},
   "source": [
    "# Operações com strings"
   ]
  },
  {
   "cell_type": "markdown",
   "metadata": {},
   "source": [
    "Você pode user aspas simples ( '...' ) ou aspas duplas (\"...\") para representar uma string. "
   ]
  },
  {
   "cell_type": "code",
   "execution_count": null,
   "metadata": {},
   "outputs": [],
   "source": [
    "'Olá'"
   ]
  },
  {
   "cell_type": "code",
   "execution_count": null,
   "metadata": {},
   "outputs": [],
   "source": [
    "\"Olá\""
   ]
  },
  {
   "cell_type": "markdown",
   "metadata": {},
   "source": [
    "Se a string contiver aspas simples, represente-a entre aspas duplas. Se a string contiver aspas duplas, represente-a entre aspas simples."
   ]
  },
  {
   "cell_type": "code",
   "execution_count": null,
   "metadata": {},
   "outputs": [],
   "source": [
    "\"Mary's dog\""
   ]
  },
  {
   "cell_type": "code",
   "execution_count": null,
   "metadata": {},
   "outputs": [],
   "source": [
    "'Gustavo disse: \"Python é legal\"'"
   ]
  },
  {
   "cell_type": "markdown",
   "metadata": {},
   "source": [
    "Você também pode usar \\ para colocar aspas simples ou duplas dentro de uma string"
   ]
  },
  {
   "cell_type": "code",
   "execution_count": null,
   "metadata": {},
   "outputs": [],
   "source": [
    "\"Esta \\\"palavra\\\" está entre aspas duplas\""
   ]
  },
  {
   "cell_type": "markdown",
   "metadata": {},
   "source": [
    "Uma string com várias linhas é representada entre três aspas duplas (\"\"\" string multi-linha \"\"\"). Você pode omitir o caractere de final de linha (\\n) no final das linhas, terminando cada linha com uma \\"
   ]
  },
  {
   "cell_type": "code",
   "execution_count": null,
   "metadata": {
    "scrolled": true
   },
   "outputs": [],
   "source": [
    "\"\"\"Usar três aspas duplas \\\n",
    "pode ser bem legal\"\"\""
   ]
  },
  {
   "cell_type": "code",
   "execution_count": null,
   "metadata": {},
   "outputs": [],
   "source": [
    "\"\"\"Usar três aspas duplas \n",
    "pode ser bem legal\"\"\""
   ]
  },
  {
   "cell_type": "markdown",
   "metadata": {},
   "source": [
    "As strings podem ser concatenadas usando o operador ( + )"
   ]
  },
  {
   "cell_type": "code",
   "execution_count": null,
   "metadata": {
    "scrolled": true
   },
   "outputs": [],
   "source": [
    "string1 = 'Py'\n",
    "string2 = 'thon'\n",
    "string1 + string2"
   ]
  },
  {
   "cell_type": "markdown",
   "metadata": {},
   "source": [
    "Comparar strings também pode ser feito com os operadores == > < >= <= !="
   ]
  },
  {
   "cell_type": "code",
   "execution_count": null,
   "metadata": {},
   "outputs": [],
   "source": [
    "a = \"teste\"\n",
    "b = \"teste\"\n",
    "a==b"
   ]
  },
  {
   "cell_type": "code",
   "execution_count": null,
   "metadata": {},
   "outputs": [],
   "source": [
    "a = \"abacate\"\n",
    "b = \"banana\"\n",
    "c = \"caju\""
   ]
  },
  {
   "cell_type": "code",
   "execution_count": null,
   "metadata": {},
   "outputs": [],
   "source": [
    "a<b #ordem alfabética"
   ]
  },
  {
   "cell_type": "code",
   "execution_count": null,
   "metadata": {},
   "outputs": [],
   "source": [
    "a > b"
   ]
  },
  {
   "cell_type": "markdown",
   "metadata": {},
   "source": [
    "O que acontece se você tentar somar tipos de dados incompatíveis?"
   ]
  },
  {
   "cell_type": "code",
   "execution_count": null,
   "metadata": {},
   "outputs": [],
   "source": [
    "a+1"
   ]
  },
  {
   "cell_type": "markdown",
   "metadata": {},
   "source": [
    "Multiplicar uma string por um inteiro é uma operação válida"
   ]
  },
  {
   "cell_type": "code",
   "execution_count": null,
   "metadata": {},
   "outputs": [],
   "source": [
    "a*10"
   ]
  },
  {
   "cell_type": "markdown",
   "metadata": {},
   "source": [
    "# Formatando a saída do comando print"
   ]
  },
  {
   "cell_type": "code",
   "execution_count": null,
   "metadata": {},
   "outputs": [],
   "source": [
    "nome = \"Gustavo\"\n",
    "adjetivo = \"legal\"\n",
    "print(\"{} é um cara muito {}\".format(nome,adjetivo))"
   ]
  },
  {
   "cell_type": "code",
   "execution_count": null,
   "metadata": {},
   "outputs": [],
   "source": [
    "print('_A'*10)"
   ]
  },
  {
   "cell_type": "code",
   "execution_count": null,
   "metadata": {},
   "outputs": [],
   "source": [
    "print(\"Jan\\nFev\\nMar\\nAbr\\nMai\\nJun\\nJul\\nAgo\\nSet\\nOut\\nNov\\nDez\")"
   ]
  },
  {
   "cell_type": "code",
   "execution_count": null,
   "metadata": {},
   "outputs": [],
   "source": [
    "print(\"I want \\\\n to be printed.\")"
   ]
  },
  {
   "cell_type": "code",
   "execution_count": null,
   "metadata": {},
   "outputs": [],
   "source": [
    "print (\"\"\"\n",
    "Routine:\n",
    "\\t-Eat\n",
    "\\t-Sleep\\n\\t-Repeat\n",
    "\"\"\")"
   ]
  },
  {
   "cell_type": "markdown",
   "metadata": {},
   "source": [
    "## Referências"
   ]
  },
  {
   "cell_type": "markdown",
   "metadata": {},
   "source": [
    "Em Python, apenas variáveis que representam strings e números contêm o dado em si. Variáveis de Listas, tuplas e conjuntos não armazenam dados e sim seu endereço na memória. Este é um conceito que é importante fixar, pois é diferente da maioria das linguagens de programação.\n"
   ]
  },
  {
   "cell_type": "code",
   "execution_count": null,
   "metadata": {},
   "outputs": [],
   "source": [
    "#Observe a diferença entre variáveis numéricas ou strings e outros tipos de variáveis\n",
    "a = 7\n",
    "b = a\n",
    "b = 10\n",
    "print(a)"
   ]
  },
  {
   "cell_type": "code",
   "execution_count": null,
   "metadata": {},
   "outputs": [],
   "source": [
    "#Inicialização da lista mercado\n",
    "mercado=['Abacate','Banana',\"Laranja\",'Manga']\n",
    "#Variável frutaria agora guardará uma referência para o mesmo lugar que a variável mercado aponta.\n",
    "frutaria=mercado\n",
    "#A partir daqui, mudar o conteúdo de frutaria mexe no mesmo espaço em memória que é referenciado por mercado\n",
    "#Na prática, mexer nos dados frutaria implica mexer na lista original mercado\n",
    "frutaria[2]='Tangerina'\n",
    "print(mercado)"
   ]
  },
  {
   "cell_type": "code",
   "execution_count": null,
   "metadata": {},
   "outputs": [],
   "source": [
    "#Observe o que acontece quando fazemos a mesma manipulação com variáveis que armazenam strings\n",
    "fruta1 = \"banana\"\n",
    "fruta2 = fruta1\n",
    "fruta2 = \"caju\"\n",
    "print(fruta1)"
   ]
  },
  {
   "cell_type": "markdown",
   "metadata": {},
   "source": [
    "Outro conceito fundamental no aprendizado de Python é o escopo de variáveis. Já vipos que Python é uma linguagem dinamicamente tipada, o que já facilita muito a nossa vida. Além disso, não é preciso declarar variáveis. Uma variável é criada na primeira vez em que é usada e destruída quando fica fora de escopo ou quando não é mais referenciada"
   ]
  },
  {
   "cell_type": "markdown",
   "metadata": {},
   "source": [
    "## Listas"
   ]
  },
  {
   "cell_type": "markdown",
   "metadata": {},
   "source": [
    "Uma lista é uma coleção de objetos em uma ordem particular. Uma lista pode conter textos, números, conjuntos e até mesmo outras listas. É possível acrescentar e remover elementos de uma lista, acessar e modificar items específicos."
   ]
  },
  {
   "cell_type": "code",
   "execution_count": null,
   "metadata": {},
   "outputs": [],
   "source": [
    "#Criando uma lista de pessoas\n",
    "pessoas=[\"Maria\",\"João\",\"Pedro\",\"Luís\",\"Gustavo\",\"Clarice\"]"
   ]
  },
  {
   "cell_type": "code",
   "execution_count": null,
   "metadata": {},
   "outputs": [],
   "source": [
    "#Acessando os elementos da lista\n",
    "pessoas[0]"
   ]
  },
  {
   "cell_type": "code",
   "execution_count": null,
   "metadata": {},
   "outputs": [],
   "source": [
    "#Modificando o terceiro elemento (índice 2, pois o primeiro elemento é o 0)\n",
    "pessoas[2]=\"José\""
   ]
  },
  {
   "cell_type": "code",
   "execution_count": null,
   "metadata": {},
   "outputs": [],
   "source": [
    "pessoas"
   ]
  },
  {
   "cell_type": "code",
   "execution_count": null,
   "metadata": {},
   "outputs": [],
   "source": [
    "#Adicionando um elemento no final da lista\n",
    "pessoas.append(\"Carla\")"
   ]
  },
  {
   "cell_type": "code",
   "execution_count": null,
   "metadata": {},
   "outputs": [],
   "source": [
    "pessoas"
   ]
  },
  {
   "cell_type": "code",
   "execution_count": null,
   "metadata": {},
   "outputs": [],
   "source": [
    "#Inserindo um elemento numa posição específica\n",
    "pessoas.insert(0,\"Beatriz\")"
   ]
  },
  {
   "cell_type": "code",
   "execution_count": null,
   "metadata": {},
   "outputs": [],
   "source": [
    "print(pessoas)"
   ]
  },
  {
   "cell_type": "code",
   "execution_count": null,
   "metadata": {},
   "outputs": [],
   "source": [
    "#Após o comando abaixo, a posição 2 da lista irá conter a string \"Astrogildo\"\n",
    "pessoas.insert(2,\"Astrogildo\")"
   ]
  },
  {
   "cell_type": "code",
   "execution_count": null,
   "metadata": {},
   "outputs": [],
   "source": [
    "print(pessoas)"
   ]
  },
  {
   "cell_type": "code",
   "execution_count": null,
   "metadata": {},
   "outputs": [],
   "source": [
    "#É possível verificar se um elemento está na lista. (Percebam a identação com 4 espaços. Identação é sintaticamente importante em Python. Veremos mais na próxima aula)\n",
    "if \"Gustavo\" in pessoas:\n",
    "    print(\"Achei\")\n",
    "else:\n",
    "    print(\"Não achei\")"
   ]
  },
  {
   "cell_type": "code",
   "execution_count": null,
   "metadata": {},
   "outputs": [],
   "source": [
    "#Também é possível iterar pela lista num laço (Veremos mais de laços na aula 2)\n",
    "for p in pessoas:\n",
    "    print(f\"{p} está na lista pessoas\")   #isto é uma f-string: https://realpython.com/python-f-strings/"
   ]
  },
  {
   "cell_type": "code",
   "execution_count": null,
   "metadata": {},
   "outputs": [],
   "source": [
    "#Removendo elementos do final da lista com o método pop\n",
    "pessoa = pessoas.pop()\n",
    "print(pessoa)\n",
    "print(pessoas)"
   ]
  },
  {
   "cell_type": "code",
   "execution_count": null,
   "metadata": {},
   "outputs": [],
   "source": [
    "#E possível remover um elemento específico da lista com o método del\n",
    "del(pessoas[1])\n",
    "print(pessoas)"
   ]
  },
  {
   "cell_type": "code",
   "execution_count": null,
   "metadata": {},
   "outputs": [],
   "source": [
    "#Concatenando listas\n",
    "frutas=[\"laranja\",\"melão\",\"tangerina\",\"maçã\"]\n",
    "legumes=[\"beterraba\",\"pepino\",\"vagem\"]\n",
    "todos = frutas + legumes\n",
    "print(todos)"
   ]
  },
  {
   "cell_type": "code",
   "execution_count": null,
   "metadata": {},
   "outputs": [],
   "source": [
    "#É possível também ordenar os elementos da lista\n",
    "todos.sort()"
   ]
  },
  {
   "cell_type": "code",
   "execution_count": null,
   "metadata": {},
   "outputs": [],
   "source": [
    "print(todos)"
   ]
  },
  {
   "cell_type": "code",
   "execution_count": null,
   "metadata": {},
   "outputs": [],
   "source": [
    "#Reverter a ordem dos elementos\n",
    "todos.reverse()\n",
    "print(todos)\n",
    "type(todos)"
   ]
  },
  {
   "cell_type": "code",
   "execution_count": null,
   "metadata": {},
   "outputs": [],
   "source": [
    "meses=['janeiro','fevereiro','março','abril','maio','junho','julho','agosto','setembro','outubro','novembro','dezembro']"
   ]
  },
  {
   "cell_type": "code",
   "execution_count": null,
   "metadata": {
    "scrolled": true
   },
   "outputs": [],
   "source": [
    "#Qual o oitavo mês do ano? Índices começam do zero\n",
    "meses[7]"
   ]
  },
  {
   "cell_type": "code",
   "execution_count": null,
   "metadata": {},
   "outputs": [],
   "source": [
    "#Também é possível usar números negativos (-1 é o ultimo elemento da lista)\n",
    "meses[-1]"
   ]
  },
  {
   "cell_type": "code",
   "execution_count": null,
   "metadata": {},
   "outputs": [],
   "source": [
    "#Quantos elementos existem na lista meses? Use a função len de length\n",
    "len(meses)"
   ]
  },
  {
   "cell_type": "code",
   "execution_count": null,
   "metadata": {},
   "outputs": [],
   "source": [
    "#É possível definir retornar intervalos de listas usando SLICES\n",
    "#Inicio:Fim:Passo\n",
    "#Intervalo aberto em fim, passo default é 1\n",
    "meses[0:3]"
   ]
  },
  {
   "cell_type": "code",
   "execution_count": null,
   "metadata": {},
   "outputs": [],
   "source": [
    "meses[1:5]"
   ]
  },
  {
   "cell_type": "code",
   "execution_count": null,
   "metadata": {},
   "outputs": [],
   "source": [
    "#Passo = 2\n",
    "meses[0:11:2]"
   ]
  },
  {
   "cell_type": "code",
   "execution_count": null,
   "metadata": {},
   "outputs": [],
   "source": [
    "#Início default é 0\n",
    "meses[:3]"
   ]
  },
  {
   "cell_type": "code",
   "execution_count": null,
   "metadata": {},
   "outputs": [],
   "source": [
    "#Final default é o fim da lista\n",
    "meses[10:]"
   ]
  },
  {
   "cell_type": "code",
   "execution_count": null,
   "metadata": {},
   "outputs": [],
   "source": [
    "#Função min retorna o menor elemento da lista (aqui assume ordem alfabética)\n",
    "min(meses)"
   ]
  },
  {
   "cell_type": "code",
   "execution_count": null,
   "metadata": {},
   "outputs": [],
   "source": [
    "#Função max retorna o maior elemento da lista\n",
    "max(meses)"
   ]
  },
  {
   "cell_type": "code",
   "execution_count": null,
   "metadata": {},
   "outputs": [],
   "source": [
    "#E se fosse uma lista de números?\n",
    "idades = [51,12,90,11,56,17,35,48,90,90]"
   ]
  },
  {
   "cell_type": "code",
   "execution_count": null,
   "metadata": {},
   "outputs": [],
   "source": [
    "min(idades)"
   ]
  },
  {
   "cell_type": "code",
   "execution_count": null,
   "metadata": {},
   "outputs": [],
   "source": [
    "max(idades)"
   ]
  },
  {
   "cell_type": "code",
   "execution_count": null,
   "metadata": {},
   "outputs": [],
   "source": [
    "#Em que posicao da lista esta a primeira ocorrencia de determinado elemento?\n",
    "idades.index(90)"
   ]
  },
  {
   "cell_type": "code",
   "execution_count": null,
   "metadata": {},
   "outputs": [],
   "source": [
    "#Quantas ocorrencias?\n",
    "idades.count(90)"
   ]
  },
  {
   "cell_type": "code",
   "execution_count": null,
   "metadata": {},
   "outputs": [],
   "source": [
    "#Se eu quiser o índice da próxima ocorrência?\n",
    "idades.index(90,3)"
   ]
  },
  {
   "cell_type": "code",
   "execution_count": null,
   "metadata": {},
   "outputs": [],
   "source": [
    "#Uma string pode ser convertida numa lista usando a função list()\n",
    "letras = list(\"abacadabra\")"
   ]
  },
  {
   "cell_type": "code",
   "execution_count": null,
   "metadata": {},
   "outputs": [],
   "source": [
    "letras"
   ]
  },
  {
   "cell_type": "code",
   "execution_count": null,
   "metadata": {},
   "outputs": [],
   "source": [
    "#Listas com intervalos - função range\n",
    "numeros_ate_100 = list(range(0,101))"
   ]
  },
  {
   "cell_type": "code",
   "execution_count": null,
   "metadata": {},
   "outputs": [],
   "source": [
    "print(numeros_ate_100)"
   ]
  },
  {
   "cell_type": "code",
   "execution_count": null,
   "metadata": {},
   "outputs": [],
   "source": [
    "#Função sum retorna a soma dos elementos da lista\n",
    "sum(numeros_ate_100)"
   ]
  },
  {
   "cell_type": "code",
   "execution_count": null,
   "metadata": {},
   "outputs": [],
   "source": [
    "numeros_pares = numeros_ate_100[::2]"
   ]
  },
  {
   "cell_type": "code",
   "execution_count": null,
   "metadata": {},
   "outputs": [],
   "source": [
    "print(numeros_pares)"
   ]
  },
  {
   "cell_type": "code",
   "execution_count": null,
   "metadata": {},
   "outputs": [],
   "source": [
    "#Strings também aceitam a notação de slices\n",
    "nome = \"Fulano da Silva\"\n",
    "print(nome[2:5])\n"
   ]
  },
  {
   "cell_type": "code",
   "execution_count": null,
   "metadata": {},
   "outputs": [],
   "source": [
    "#Função split em strings retorna uma lista de substrings separadas por um separador fornecido\n",
    "nome.split(sep=\" \")"
   ]
  },
  {
   "cell_type": "markdown",
   "metadata": {},
   "source": [
    "Exercício 1: calcule a média dos numeros ímpares até 100 usando slices, a função len e a função sum"
   ]
  },
  {
   "cell_type": "markdown",
   "metadata": {},
   "source": [
    "Exercício 2: retorne o último sobrenome da string nome"
   ]
  },
  {
   "cell_type": "markdown",
   "metadata": {},
   "source": [
    "Exercício 3: Gere uma lista dos números divisíveis por 3 menores que 100 em ordem reversa"
   ]
  },
  {
   "cell_type": "code",
   "execution_count": null,
   "metadata": {},
   "outputs": [],
   "source": []
  }
 ],
 "metadata": {
  "kernelspec": {
   "display_name": "Python 3",
   "language": "python",
   "name": "python3"
  },
  "language_info": {
   "codemirror_mode": {
    "name": "ipython",
    "version": 3
   },
   "file_extension": ".py",
   "mimetype": "text/x-python",
   "name": "python",
   "nbconvert_exporter": "python",
   "pygments_lexer": "ipython3",
   "version": "3.7.4"
  }
 },
 "nbformat": 4,
 "nbformat_minor": 2
}
