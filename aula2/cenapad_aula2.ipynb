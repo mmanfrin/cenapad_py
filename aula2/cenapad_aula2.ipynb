{
 "cells": [
  {
   "cell_type": "markdown",
   "metadata": {},
   "source": [
    "<img src=cenapad.jpg align=left><BR><BR><BR><BR><BR><BR>\n",
    "<h1>Curso de Introdução à linguagem Python  - Aula 2 </h1>\n",
    "<img src=python-logo.png align=left>"
   ]
  },
  {
   "cell_type": "markdown",
   "metadata": {},
   "source": [
    "# Função range"
   ]
  },
  {
   "cell_type": "markdown",
   "metadata": {},
   "source": [
    "range() retorna um objeto especial do tipo range. Podemos usá-lo para criar uma lista de números que variam de um ponto de partida até um ponto final. Também podemos especificar o tamanho do passo. Podemos usar a função range com 1, 2 ou 3 argumentos."
   ]
  },
  {
   "cell_type": "code",
   "execution_count": 1,
   "metadata": {},
   "outputs": [
    {
     "name": "stdout",
     "output_type": "stream",
     "text": [
      "[0, 1, 2, 3, 4, 5, 6, 7, 8, 9]\n"
     ]
    }
   ],
   "source": [
    "#Um único argumento (final do range - intervalo aberto). Início default é 0. Passo default é 1.\n",
    "#Define um lista a partir de um range de 0 a 9 com passo de 1 \n",
    "r = list(range(10))\n",
    "print(r)"
   ]
  },
  {
   "cell_type": "code",
   "execution_count": 2,
   "metadata": {},
   "outputs": [
    {
     "name": "stdout",
     "output_type": "stream",
     "text": [
      "[5, 6, 7, 8, 9]\n"
     ]
    }
   ],
   "source": [
    "#Dois argumentos. (início do range - intervalo fechado - e final do range - intervalor aberto). Passo default é 1\n",
    "r2 = list(range(5,10)) #Intervalo fechado em 5 e aberto em 10 com passo de 1\n",
    "print(r2)"
   ]
  },
  {
   "cell_type": "code",
   "execution_count": 3,
   "metadata": {},
   "outputs": [
    {
     "name": "stdout",
     "output_type": "stream",
     "text": [
      "[10, 12, 14, 16, 18]\n"
     ]
    }
   ],
   "source": [
    "#Três argumentos - início (intervalo fechado), fim (intervalo aberto) e  passo. \n",
    "r3 = list(range(10,20,2)) #Aqui definimos um range de 10 a 20(aberto) com passo de 2\n",
    "print(r3)"
   ]
  },
  {
   "cell_type": "code",
   "execution_count": 9,
   "metadata": {},
   "outputs": [
    {
     "name": "stdout",
     "output_type": "stream",
     "text": [
      "range(0, 10)\n"
     ]
    },
    {
     "data": {
      "text/plain": [
       "range"
      ]
     },
     "execution_count": 9,
     "metadata": {},
     "output_type": "execute_result"
    }
   ],
   "source": [
    "x = range(0,10) #A função range retorna um objeto do tipo range\n",
    "print(x)\n",
    "type(x)"
   ]
  },
  {
   "cell_type": "code",
   "execution_count": 11,
   "metadata": {},
   "outputs": [
    {
     "data": {
      "text/plain": [
       "list"
      ]
     },
     "execution_count": 11,
     "metadata": {},
     "output_type": "execute_result"
    }
   ],
   "source": [
    "x = list(range(0,10)) #É preciso usar a função list() para converter um range para uma lista\n",
    "type(x)"
   ]
  },
  {
   "cell_type": "markdown",
   "metadata": {},
   "source": [
    "# Função enumerate"
   ]
  },
  {
   "cell_type": "markdown",
   "metadata": {},
   "source": [
    "Suponha que você tenha uma lista de pessoas = ['João','José','Maria']\n",
    "A função enumerate retorna tuplas de índices e elementos no formato [(0,'João'),(1,'José'),(2,'Maria')]. \n",
    "O resultado da função enumerate pode ser convertido para lista com a função list()"
   ]
  },
  {
   "cell_type": "code",
   "execution_count": 13,
   "metadata": {},
   "outputs": [],
   "source": [
    "pessoas=['João','José','Maria']"
   ]
  },
  {
   "cell_type": "code",
   "execution_count": 14,
   "metadata": {},
   "outputs": [
    {
     "name": "stdout",
     "output_type": "stream",
     "text": [
      "[(0, 'João'), (1, 'José'), (2, 'Maria')]\n"
     ]
    }
   ],
   "source": [
    "enum_pessoas = list(enumerate(pessoas))\n",
    "print(enum_pessoas)"
   ]
  },
  {
   "cell_type": "code",
   "execution_count": 15,
   "metadata": {},
   "outputs": [
    {
     "name": "stdout",
     "output_type": "stream",
     "text": [
      "Pessoa 0=João\n",
      "Pessoa 1=José\n",
      "Pessoa 2=Maria\n"
     ]
    }
   ],
   "source": [
    "#A função enumerate pode ser útil dentro de um laço for, que veremos mais adiante\n",
    "#Por enquanto vamos ficar apenas com este exemplo\n",
    "for i,p in enumerate(pessoas):\n",
    "    print(f\"Pessoa {i}={p}\") #usando f-string p/ intercalar texto com variáveis (Disponível a partir do Python 3.6)\n"
   ]
  },
  {
   "cell_type": "markdown",
   "metadata": {},
   "source": [
    "# Função zip"
   ]
  },
  {
   "cell_type": "markdown",
   "metadata": {},
   "source": [
    "A função zip combina duas listas em uma lista de tuplas. Por exemplo:<BR>\n",
    "    indices=[1,2,3]<BR>\n",
    "    nomes=[\"ana\",\"maria\",\"josé\"]\n",
    "    <BR>\n",
    "    zip(indices,nomes) = [(1,\"ana\") , (2,\"maria\") , (3,\"josé) ]"
   ]
  },
  {
   "cell_type": "code",
   "execution_count": 16,
   "metadata": {},
   "outputs": [
    {
     "name": "stdout",
     "output_type": "stream",
     "text": [
      "[(1, 'ana'), (2, 'maria'), (3, 'josé')]\n"
     ]
    }
   ],
   "source": [
    "indices=[1,2,3]\n",
    "nomes=[\"ana\",\"maria\",\"josé\"]\n",
    "nomes_indexados=list(zip(indices,nomes)) #Converta o objeto zip para lista\n",
    "print(nomes_indexados)"
   ]
  },
  {
   "cell_type": "code",
   "execution_count": 17,
   "metadata": {},
   "outputs": [
    {
     "name": "stdout",
     "output_type": "stream",
     "text": [
      "[('ana', 14, 58), ('maria', 21, 70), ('josé', 38, 90)]\n"
     ]
    }
   ],
   "source": [
    "nomes=[\"ana\",\"maria\",\"josé\"]\n",
    "idades = [14,21,38]\n",
    "pesos = [58,70,90]\n",
    "dados_pessoas = list(zip(nomes,idades,pesos))\n",
    "print(dados_pessoas)"
   ]
  },
  {
   "cell_type": "markdown",
   "metadata": {},
   "source": [
    "# Condicionais: if, elif e else"
   ]
  },
  {
   "cell_type": "markdown",
   "metadata": {},
   "source": [
    "A declaração if/elif/else funciona para controlar o fluxo de execução baseando-se em uma ou mais condições. A sintaxe é a seguinte:"
   ]
  },
  {
   "cell_type": "code",
   "execution_count": 18,
   "metadata": {},
   "outputs": [
    {
     "ename": "NameError",
     "evalue": "name 'condicao' is not defined",
     "output_type": "error",
     "traceback": [
      "\u001b[1;31m---------------------------------------------------------------------------\u001b[0m",
      "\u001b[1;31mNameError\u001b[0m                                 Traceback (most recent call last)",
      "\u001b[1;32m<ipython-input-18-284b5a88a1e2>\u001b[0m in \u001b[0;36m<module>\u001b[1;34m\u001b[0m\n\u001b[0;32m      1\u001b[0m \u001b[1;31m#Não rode esta célula\u001b[0m\u001b[1;33m\u001b[0m\u001b[1;33m\u001b[0m\u001b[1;33m\u001b[0m\u001b[0m\n\u001b[1;32m----> 2\u001b[1;33m \u001b[1;32mif\u001b[0m \u001b[0mcondicao\u001b[0m\u001b[1;33m:\u001b[0m\u001b[1;33m\u001b[0m\u001b[1;33m\u001b[0m\u001b[0m\n\u001b[0m\u001b[0;32m      3\u001b[0m     \u001b[0mcomando1\u001b[0m\u001b[1;33m\u001b[0m\u001b[1;33m\u001b[0m\u001b[0m\n\u001b[0;32m      4\u001b[0m     \u001b[0mcomando2\u001b[0m\u001b[1;33m\u001b[0m\u001b[1;33m\u001b[0m\u001b[0m\n\u001b[0;32m      5\u001b[0m     \u001b[1;33m...\u001b[0m\u001b[1;33m\u001b[0m\u001b[1;33m\u001b[0m\u001b[0m\n",
      "\u001b[1;31mNameError\u001b[0m: name 'condicao' is not defined"
     ]
    }
   ],
   "source": [
    "#Não rode esta célula\n",
    "if condicao:\n",
    "    comando1\n",
    "    comando2\n",
    "    ...\n",
    "    comandoN\n",
    "elif condicao:\n",
    "    comando1\n",
    "    comando2\n",
    "    ...\n",
    "    comandoN\n",
    "else:\n",
    "    comando1\n",
    "    comando2\n",
    "    ...\n",
    "    comandoN"
   ]
  },
  {
   "cell_type": "markdown",
   "metadata": {},
   "source": [
    "Observe que é a IDENTAÇÃO que define os blocos de código, diferentemente de outras linguagens que usam delimitadores como chaves \"{\" e \"}\" ou blocos com \"begin\" e \"end\". <br>\n",
    "Uma boa prática é usar IDENTAÇÃO com 4 espaços (primeiro nível), 8 espaços (segundo nível) e assim por diante. <BR>\n",
    "Não se deve usar tabulações (por convenções de portabilidade e legibilidade), apesar de serem permitidas. No entanto, NUNCA se deve misturar espaços com tabulações no mesmo programa<BR> A IDENTAÇÃO em Python é obrigatória e faz parte da sintaxe. A vantagem desta característica é a legibilidade do código. A maioria dos editores de código ou IDEs de desenvolvimento irão facilitar o trabalho de IDENTAÇÃO, colocando autoomaticamente os espaços se você estiver dentro do contexto de um bloco de código."
   ]
  },
  {
   "cell_type": "markdown",
   "metadata": {},
   "source": [
    "Exemplos de uso do condicional if elif else"
   ]
  },
  {
   "cell_type": "code",
   "execution_count": 19,
   "metadata": {},
   "outputs": [
    {
     "name": "stdout",
     "output_type": "stream",
     "text": [
      "Qual é seu nome?:Marcos\n",
      "Qual é sua idade?:37\n",
      "Nome: Marcos - Idade: 37 - É um(a) adulto\n"
     ]
    }
   ],
   "source": [
    "nome = input(\"Qual é seu nome?:\") #Escreve uma mensagem na tela e guarda a resposta em uma string nome\n",
    "idade = int(input(\"Qual é sua idade?:\")) #Conversão (casting) de string para inteiro\n",
    "faixa=\"\"\n",
    "\n",
    "if idade <= 12:\n",
    "    faixa = \"criança\"\n",
    "elif idade <= 17:\n",
    "    faixa = \"adolescente\"\n",
    "elif idade <= 65:\n",
    "    faixa = \"adulto\"\n",
    "else:\n",
    "    faixa = \"idoso\"\n",
    "\n",
    "print(f\"Nome: {nome} - Idade: {idade} - É um(a) {faixa}\")"
   ]
  },
  {
   "cell_type": "markdown",
   "metadata": {},
   "source": [
    "A declaração if/elif/else pode não ter nenhum bloco elif se desejado"
   ]
  },
  {
   "cell_type": "code",
   "execution_count": 20,
   "metadata": {},
   "outputs": [
    {
     "name": "stdout",
     "output_type": "stream",
     "text": [
      "Maior\n"
     ]
    }
   ],
   "source": [
    "idade=21\n",
    "if idade<=17:\n",
    "    print(\"Menor\")\n",
    "else:\n",
    "    print(\"Maior\")"
   ]
  },
  {
   "cell_type": "code",
   "execution_count": 21,
   "metadata": {},
   "outputs": [
    {
     "name": "stdout",
     "output_type": "stream",
     "text": [
      "Adulto\n"
     ]
    }
   ],
   "source": [
    "#É possível combinar condições com os operadores and, not e or\n",
    "idade = 31\n",
    "if idade <= 12:\n",
    "    print(\"Criança\")\n",
    "elif idade > 12 and idade < 21:\n",
    "    print(\"Adolescente\")\n",
    "elif idade>=21:\n",
    "    print(\"Adulto\")"
   ]
  },
  {
   "cell_type": "code",
   "execution_count": 25,
   "metadata": {},
   "outputs": [
    {
     "name": "stdout",
     "output_type": "stream",
     "text": [
      "Entre com um número inteiro 2\n",
      "Entre com outro número inteiro 2\n",
      "Pelo menos um dos números é par\n"
     ]
    }
   ],
   "source": [
    "x = int(input(\"Entre com um número inteiro \"))\n",
    "y = int(input(\"Entre com outro número inteiro \"))\n",
    "if x%2==1 and y%2==1:\n",
    "    print(\"Ambos os números são ímpares\")\n",
    "else:\n",
    "    print(\"Pelo menos um dos números é par\")"
   ]
  },
  {
   "cell_type": "code",
   "execution_count": 26,
   "metadata": {},
   "outputs": [
    {
     "name": "stdout",
     "output_type": "stream",
     "text": [
      "Entre com um número inteiro 1\n",
      "Entre com outro número inteiro 2\n",
      "Pelo menos um dos números é ímpar\n"
     ]
    }
   ],
   "source": [
    "x = int(input(\"Entre com um número inteiro \"))\n",
    "y = int(input(\"Entre com outro número inteiro \"))\n",
    "if x%2==1 or y%2==1:\n",
    "    print(\"Pelo menos um dos números é ímpar\")\n",
    "else:\n",
    "    print(\"Ambos os números são pares\")"
   ]
  },
  {
   "cell_type": "code",
   "execution_count": 30,
   "metadata": {},
   "outputs": [
    {
     "name": "stdout",
     "output_type": "stream",
     "text": [
      "3 é divisível por 3\n",
      "6 é divisível por 3\n",
      "9 é divisível por 3\n",
      "12 é divisível por 3\n",
      "15 é divisível por 3\n",
      "18 é divisível por 3\n",
      "21 é divisível por 3\n",
      "24 é divisível por 3\n",
      "27 é divisível por 3\n"
     ]
    }
   ],
   "source": [
    "num = list(range(1,30))\n",
    "for n in num:\n",
    "    if n%3==0:\n",
    "        print(f\"{n} é divisível por 3\")"
   ]
  },
  {
   "cell_type": "code",
   "execution_count": 72,
   "metadata": {},
   "outputs": [
    {
     "name": "stdout",
     "output_type": "stream",
     "text": [
      "Os números [3, 6, 9, 12, 15, 18, 21, 24, 27] são divisíveis por 3.\n"
     ]
    }
   ],
   "source": [
    "#Alternativamente, em vez de imprimir na tela, podemos criar uma lista com os números divisíveis por 3 e depois imprimi-la\n",
    "num = list(range(1,30))\n",
    "num_div3=[] #Iniciando uma lista vazia (Isto é necessário para que possamos usar o método append depois)\n",
    "for n in num:\n",
    "    if n%3==0:\n",
    "        num_div3.append(n)\n",
    "print(f\"Os números {num_div3} são divisíveis por 3.\")\n",
    "#ok = (*.num_div3, sep=', ')\n",
    "#print(ok)"
   ]
  },
  {
   "cell_type": "markdown",
   "metadata": {},
   "source": [
    "## Declaração for"
   ]
  },
  {
   "cell_type": "markdown",
   "metadata": {},
   "source": [
    "Um laço for funciona como um iterador. Um for serve para tomar ações sobre elementos de uma sequência ou qualquer item iterável como strings, listas e outros objetos iteráveis que veremos mais adiante\n",
    "\n",
    "Formato geral para uma declaração for\n",
    "\n",
    "for item in object:\n",
    "    statements to do stuff\n",
    "\n",
    "É comum também usar um range como iterável numa declaração for\n",
    "\n",
    "for i in range(0,10):\n",
    "    faz alguma coisa com i"
   ]
  },
  {
   "cell_type": "code",
   "execution_count": 1,
   "metadata": {},
   "outputs": [],
   "source": [
    "#O complemento de uma sequência de DNA é obtido pela substituição de todos os As por Ts, Ts por As, Gs por Cs e Cs por Gs\n",
    "dna = \"AGCAGGTGCGAGTAGCAGTAGCA\""
   ]
  },
  {
   "cell_type": "code",
   "execution_count": 2,
   "metadata": {},
   "outputs": [
    {
     "name": "stdout",
     "output_type": "stream",
     "text": [
      "TCGTCCACGCTCATCGTCATCGT\n"
     ]
    }
   ],
   "source": [
    "#Transformar todos os A's em Ts, Ts em As, Gs em Cs e Cs em Gs\n",
    "complemento=\"\"  #Iniciando string vazia\n",
    "for x in dna:  #A cada passada nesse laço, x será uma letra de dna\n",
    "    if x==\"G\":  #Se x for G, concatena a string complemento com um C\n",
    "        complemento = complemento + \"C\"\n",
    "    elif x==\"C\": #Se x for C, concatena a string complemento com um T\n",
    "        complemento = complemento + \"G\"\n",
    "    elif x == \"A\":\n",
    "        complemento = complemento + \"T\"\n",
    "    elif x == \"T\":\n",
    "        complemento = complemento + \"A\"\n",
    "        \n",
    "print(complemento)\n",
    "    "
   ]
  },
  {
   "cell_type": "code",
   "execution_count": 11,
   "metadata": {},
   "outputs": [
    {
     "name": "stdout",
     "output_type": "stream",
     "text": [
      "DNA    =AGCAGGTGCGAGTAGCAGTAGCA\n",
      "REVCOMP=TGCTACTGCTACTCGCACCTGCT\n"
     ]
    }
   ],
   "source": [
    "#join é um método da classe string  que concatena uma string com as strings de uma lista \n",
    "#reversed retorna uma lista ou string revertida\n",
    "#Vamos reverter a string e usar o método join para formar uma nova string com o reverso complementar da sequência de DNA\n",
    "reverso_complementar = ''.join(reversed(complemento)) #conatena a string vazia '' com o complemento revertido\n",
    "print(f\"DNA    ={dna}\\nREVCOMP={reverso_complementar}\")"
   ]
  },
  {
   "cell_type": "code",
   "execution_count": 12,
   "metadata": {},
   "outputs": [
    {
     "name": "stdout",
     "output_type": "stream",
     "text": [
      "Caracter de índice 0 é um A\n",
      "Caracter de índice 1 é um G\n",
      "Caracter de índice 2 é um C\n",
      "Caracter de índice 3 é um A\n",
      "Caracter de índice 4 é um G\n",
      "Caracter de índice 5 é um G\n",
      "Caracter de índice 6 é um T\n",
      "Caracter de índice 7 é um G\n",
      "Caracter de índice 8 é um C\n",
      "Caracter de índice 9 é um G\n",
      "Caracter de índice 10 é um A\n",
      "Caracter de índice 11 é um G\n",
      "Caracter de índice 12 é um T\n",
      "Caracter de índice 13 é um A\n",
      "Caracter de índice 14 é um G\n",
      "Caracter de índice 15 é um C\n",
      "Caracter de índice 16 é um A\n",
      "Caracter de índice 17 é um G\n",
      "Caracter de índice 18 é um T\n",
      "Caracter de índice 19 é um A\n",
      "Caracter de índice 20 é um G\n",
      "Caracter de índice 21 é um C\n",
      "Caracter de índice 22 é um A\n"
     ]
    }
   ],
   "source": [
    "for i in range(len(dna)):\n",
    "    print(f\"Caracter de índice {i} é um {dna[i]}\")"
   ]
  },
  {
   "cell_type": "code",
   "execution_count": 15,
   "metadata": {},
   "outputs": [
    {
     "name": "stdout",
     "output_type": "stream",
     "text": [
      "Caracter de índice 0 é um A\n",
      "Caracter de índice 1 é um G\n",
      "Caracter de índice 2 é um C\n",
      "Caracter de índice 3 é um A\n",
      "Caracter de índice 4 é um G\n",
      "Caracter de índice 5 é um G\n",
      "Caracter de índice 6 é um T\n",
      "Caracter de índice 7 é um G\n",
      "Caracter de índice 8 é um C\n",
      "Caracter de índice 9 é um G\n",
      "Caracter de índice 10 é um A\n",
      "Caracter de índice 11 é um G\n",
      "Caracter de índice 12 é um T\n",
      "Caracter de índice 13 é um A\n",
      "Caracter de índice 14 é um G\n",
      "Caracter de índice 15 é um C\n",
      "Caracter de índice 16 é um A\n",
      "Caracter de índice 17 é um G\n",
      "Caracter de índice 18 é um T\n",
      "Caracter de índice 19 é um A\n",
      "Caracter de índice 20 é um G\n",
      "Caracter de índice 21 é um C\n",
      "Caracter de índice 22 é um A\n"
     ]
    }
   ],
   "source": [
    "#O laço for acima poderia ser feito também usando a função enumerate\n",
    "for i,x in enumerate(dna):\n",
    "    print(f\"Caracter de índice {i} é um {x}\")"
   ]
  },
  {
   "cell_type": "markdown",
   "metadata": {},
   "source": [
    "## Declaração while"
   ]
  },
  {
   "cell_type": "markdown",
   "metadata": {},
   "source": [
    "Uma declaração while testa uma condição inicial e começa a executar os comandos do bloco se a condição for verdadeira. Enquanto a condição se mantiver verdadeira, os comandos do laço são executados repetidamente.\n",
    "\n",
    "Sintaxe:\n",
    "\n",
    "while condicao:\n",
    "\n",
    "    comandos\n"
   ]
  },
  {
   "cell_type": "code",
   "execution_count": 16,
   "metadata": {},
   "outputs": [
    {
     "name": "stdout",
     "output_type": "stream",
     "text": [
      "1\n",
      "2\n",
      "3\n",
      "4\n",
      "5\n",
      "6\n",
      "7\n",
      "8\n",
      "9\n",
      "10\n"
     ]
    }
   ],
   "source": [
    "#Exemplo da declaração while\n",
    "i=0\n",
    "while i < 10:\n",
    "    i+=1\n",
    "    print(i)"
   ]
  },
  {
   "cell_type": "code",
   "execution_count": 21,
   "metadata": {},
   "outputs": [
    {
     "name": "stdout",
     "output_type": "stream",
     "text": [
      "Entre com um nome ou com a palavra sair: Marcos\n",
      "Entre com um nome ou com a palavra sair: Manfrin\n",
      "Entre com um nome ou com a palavra sair: sair\n",
      "['Marcos', 'Manfrin']\n"
     ]
    }
   ],
   "source": [
    "# Iniciando com uma lista vazia\n",
    "names = []\n",
    "\n",
    "# Defina uma string chamada new_name com qualquer valor diferente de \"sair\"\n",
    "new_name = ''\n",
    "\n",
    "# O laço  while irá executar enquanto o usuário entrar com nomes diferentes de \"sair\", armazenando cada nome entrado em uma lista\n",
    "while new_name != 'sair':\n",
    "    # Pede que o usuário entre com um nome\n",
    "    new_name = input(\"Entre com um nome ou com a palavra sair: \")\n",
    "    # Adiciona o nome ao fim da lista names\n",
    "    names.append(new_name)\n",
    "\n",
    "#Retira a palavra sair da lista de nomes (\"sair\")\n",
    "ultima = names.pop()\n",
    "# Imprime a lista de nomes\n",
    "print(names)"
   ]
  },
  {
   "cell_type": "markdown",
   "metadata": {},
   "source": [
    "## Listas de listas"
   ]
  },
  {
   "cell_type": "markdown",
   "metadata": {},
   "source": [
    "Uma matriz em python puro pode ser representada como uma lista de listas. Veja como definir uma lista de listas e como acessar seus elementos."
   ]
  },
  {
   "cell_type": "code",
   "execution_count": 1,
   "metadata": {},
   "outputs": [
    {
     "name": "stdout",
     "output_type": "stream",
     "text": [
      "2\n"
     ]
    }
   ],
   "source": [
    "matriz = [[1,2],[4,3],[1,5]] #representacao de uma matriz de 3 linhas e duas colunas\n",
    "print(matriz[0][1])"
   ]
  },
  {
   "cell_type": "code",
   "execution_count": 2,
   "metadata": {},
   "outputs": [
    {
     "name": "stdout",
     "output_type": "stream",
     "text": [
      "[[1, 2], [4, 3], [1, 10]]\n"
     ]
    }
   ],
   "source": [
    "matriz[2][1]=10 #Redefinindo um elemento da matriz\n",
    "print(matriz)"
   ]
  },
  {
   "cell_type": "markdown",
   "metadata": {},
   "source": [
    "Uma lista de listas nem sempre representa uma matriz. Ou seja, as listas internas não precisam ter o mesmo tamanho e podem mesclar tipos de dados diferentes"
   ]
  },
  {
   "cell_type": "code",
   "execution_count": 3,
   "metadata": {},
   "outputs": [
    {
     "name": "stdout",
     "output_type": "stream",
     "text": [
      "pernilongo\n",
      "5\n"
     ]
    }
   ],
   "source": [
    "lista_de_listas=[ [\"gato\",\"cachorro\",\"elefante\"], [\"abelha\",\"pernilongo\"],[\"peixe\"],[1,2,5,8.45] ]\n",
    "print(lista_de_listas[1][1])\n",
    "print(lista_de_listas[3][2])"
   ]
  },
  {
   "cell_type": "markdown",
   "metadata": {},
   "source": [
    "Podemos usar um laço dentro de outro para iterar sobre listas de listas"
   ]
  },
  {
   "cell_type": "code",
   "execution_count": 4,
   "metadata": {},
   "outputs": [
    {
     "name": "stdout",
     "output_type": "stream",
     "text": [
      "gato\n",
      "cachorro\n",
      "elefante\n",
      "abelha\n",
      "pernilongo\n",
      "peixe\n",
      "1\n",
      "2\n",
      "5\n",
      "8.45\n"
     ]
    }
   ],
   "source": [
    "for lista in lista_de_listas:\n",
    "    for x in lista:\n",
    "        print(x)"
   ]
  },
  {
   "cell_type": "code",
   "execution_count": 5,
   "metadata": {},
   "outputs": [
    {
     "name": "stdout",
     "output_type": "stream",
     "text": [
      "Elemento 0,0 = gato\n",
      "Elemento 0,1 = cachorro\n",
      "Elemento 0,2 = elefante\n",
      "Elemento 1,0 = abelha\n",
      "Elemento 1,1 = pernilongo\n",
      "Elemento 2,0 = peixe\n",
      "Elemento 3,0 = 1\n",
      "Elemento 3,1 = 2\n",
      "Elemento 3,2 = 5\n",
      "Elemento 3,3 = 8.45\n"
     ]
    }
   ],
   "source": [
    "#Usando enumerate para obter o índice dos elementos\n",
    "for i,lista in enumerate(lista_de_listas):\n",
    "    for j,x in enumerate(lista):\n",
    "        print(f\"Elemento {i},{j} = {x}\")"
   ]
  },
  {
   "cell_type": "markdown",
   "metadata": {},
   "source": [
    "## List comprehension"
   ]
  },
  {
   "cell_type": "markdown",
   "metadata": {},
   "source": [
    "Criar a adicionar valores a uma lista em Python pode ser uma tarefa tediosa. Para nossa sorte, Python fornece um atalho que permite a criação de listas através de uma sintaxe fácil e com pouco código. A sintaxe básica é lista = [ expressão for item in lista if condicao]. Esta sintaxe tenta se aproximar da notação matemática. Por exemplo:\n",
    "S = {x² : x in {0 ... 9}}\n",
    "V = (1, 2, 4, 8, ..., 2¹²)\n",
    "M = {x | x in S and x even}"
   ]
  },
  {
   "cell_type": "code",
   "execution_count": 6,
   "metadata": {},
   "outputs": [
    {
     "name": "stdout",
     "output_type": "stream",
     "text": [
      "[0, 1, 4, 9, 16, 25, 36, 49, 64, 81]\n"
     ]
    }
   ],
   "source": [
    "#Gerando uma lista dos quadrados dos inteiros de 0 a 9\n",
    "#Forma longa - sem list comprehension\n",
    "s=[]\n",
    "for x in range(10):\n",
    "    s.append(x**2)\n",
    "print(s)"
   ]
  },
  {
   "cell_type": "code",
   "execution_count": 7,
   "metadata": {},
   "outputs": [
    {
     "name": "stdout",
     "output_type": "stream",
     "text": [
      "[0, 1, 4, 9, 16, 25, 36, 49, 64, 81]\n"
     ]
    }
   ],
   "source": [
    "#Gerando uma lista dos quadrados dos inteiros de 0 a 9\n",
    "#Forma pythônica - com list comprehension\n",
    "s = [x**2 for x in range(10)]\n",
    "print(s)"
   ]
  },
  {
   "cell_type": "code",
   "execution_count": 8,
   "metadata": {},
   "outputs": [
    {
     "name": "stdout",
     "output_type": "stream",
     "text": [
      "[1, 2, 4, 8, 16, 32, 64, 128, 256, 512, 1024, 2048, 4096]\n"
     ]
    }
   ],
   "source": [
    "#Lista com as potências de 2 de 0 a 12\n",
    "#Forma longa - sem list comprehension\n",
    "v = []\n",
    "for x in range(13):\n",
    "    v.append(2**x)\n",
    "print(v)"
   ]
  },
  {
   "cell_type": "code",
   "execution_count": 9,
   "metadata": {},
   "outputs": [
    {
     "name": "stdout",
     "output_type": "stream",
     "text": [
      "[1, 2, 4, 8, 16, 32, 64, 128, 256, 512, 1024, 2048, 4096]\n"
     ]
    }
   ],
   "source": [
    "#Lista com as potências de 2 de 0 a 12\n",
    "#Forma pythônica - com list comprehension\n",
    "v = [2**x for x in range(0,13)]\n",
    "print(v)"
   ]
  },
  {
   "cell_type": "code",
   "execution_count": 10,
   "metadata": {},
   "outputs": [
    {
     "name": "stdout",
     "output_type": "stream",
     "text": [
      "[0, 4, 16, 36, 64]\n"
     ]
    }
   ],
   "source": [
    "#Sublista dos números pares da lista s (Quadrados pares dos inteiros de 0 a 9)\n",
    "#Forma longa - sem list comprehension\n",
    "m = []\n",
    "for x in range(10):\n",
    "    if x**2%2==0:\n",
    "        m.append(x**2)\n",
    "print(m)"
   ]
  },
  {
   "cell_type": "code",
   "execution_count": 11,
   "metadata": {},
   "outputs": [
    {
     "name": "stdout",
     "output_type": "stream",
     "text": [
      "[0, 4, 16, 36, 64]\n"
     ]
    }
   ],
   "source": [
    "#Sublista dos números pares da lista s (Quadrados pares dos inteiros de 0 a 9)\n",
    "#Forma pythônica - com list comprehension\n",
    "m = [x**2 for x in range(10) if x**2%2==0]\n",
    "print(m)"
   ]
  },
  {
   "cell_type": "code",
   "execution_count": 12,
   "metadata": {},
   "outputs": [
    {
     "name": "stdout",
     "output_type": "stream",
     "text": [
      "[0, 4, 16, 36, 64]\n"
     ]
    }
   ],
   "source": [
    "#Podemos alternativamente formar a lista m a partir de s (lista dos quadrados já definida acima)\n",
    "m = [x for x in s if x%2==0]\n",
    "print(m)"
   ]
  },
  {
   "cell_type": "code",
   "execution_count": 13,
   "metadata": {},
   "outputs": [],
   "source": [
    "#Lista dos anos bissextos entre 1900 e 2200 com list comprehension\n",
    "bissextos = [x for x in range(1900,2200) if ((x%4==0 and x%100!=0) or x%400==0)]"
   ]
  },
  {
   "cell_type": "code",
   "execution_count": 14,
   "metadata": {},
   "outputs": [
    {
     "name": "stdout",
     "output_type": "stream",
     "text": [
      "[1904, 1908, 1912, 1916, 1920, 1924, 1928, 1932, 1936, 1940, 1944, 1948, 1952, 1956, 1960, 1964, 1968, 1972, 1976, 1980, 1984, 1988, 1992, 1996, 2000, 2004, 2008, 2012, 2016, 2020, 2024, 2028, 2032, 2036, 2040, 2044, 2048, 2052, 2056, 2060, 2064, 2068, 2072, 2076, 2080, 2084, 2088, 2092, 2096, 2104, 2108, 2112, 2116, 2120, 2124, 2128, 2132, 2136, 2140, 2144, 2148, 2152, 2156, 2160, 2164, 2168, 2172, 2176, 2180, 2184, 2188, 2192, 2196]\n"
     ]
    }
   ],
   "source": [
    "print(bissextos)\n"
   ]
  },
  {
   "cell_type": "markdown",
   "metadata": {},
   "source": [
    "## Exercício 1"
   ]
  },
  {
   "cell_type": "markdown",
   "metadata": {},
   "source": [
    "Faça um joguinho de \"Advinhe o número\". Baseie-se no exemplo e modifique-o para:<BR>\n",
    "1- Informar ao jogador o número de tentativas até então<BR>\n",
    "2- A cada tentativa, dizer ao jogador o intervalo em que se encontra o número. Por exemplo: \"O número está entre 1 e 100\". \"O número está entre 70 e 100\". \"O número está entre 70 e 85\" etc.<BR>\n",
    "3- No final informe: \"Você acertou com X tentativas\""
   ]
  },
  {
   "cell_type": "code",
   "execution_count": null,
   "metadata": {},
   "outputs": [],
   "source": [
    "import random\n",
    "n = random.randint(1, 101) #Número aleatório de 1 a 100\n",
    "guess = int(input(\"Enter an integer from 1 to 100: \"))\n",
    "while n != guess:\n",
    "    if guess < n:\n",
    "        print(\"guess is low\")\n",
    "        guess = int(input(\"Enter an integer from 1 to 100: \"))\n",
    "    elif guess > n:\n",
    "        print(\"guess is high\")\n",
    "        guess = int(input(\"Enter an integer from 1 to 100: \"))\n",
    "    else:\n",
    "        print(\"you guessed it!\")\n",
    "        break"
   ]
  },
  {
   "cell_type": "markdown",
   "metadata": {},
   "source": [
    "# Exercício 2"
   ]
  },
  {
   "cell_type": "markdown",
   "metadata": {},
   "source": [
    "Calcule o produto escalar E de duas listas de números de igual tamanho. Considere que as listas podem ter qualquer tamanho.<BR>\n",
    "    Ex: X = [3,6,7] Y=[2,7,8] E= 3 * 2 + 6 * 7 + 7 * 8"
   ]
  },
  {
   "cell_type": "code",
   "execution_count": null,
   "metadata": {},
   "outputs": [],
   "source": [
    "X=[3,6,7,6]\n",
    "Y=[5,8,9,2]\n",
    "#Dica: use list comprehension e zip"
   ]
  },
  {
   "cell_type": "markdown",
   "metadata": {},
   "source": [
    "## Exercício 3"
   ]
  },
  {
   "cell_type": "markdown",
   "metadata": {},
   "source": [
    "#Uma matriz pode ser definida como uma lista de listas<BR>\n",
    "A=[[1,2,3],[4,5,6],[2,2,2]] #Matriz 3X3<BR>\n",
    "B=[[5,2,1],[2,1,7],[4,1,2]]<BR>\n",
    "<BR>\n",
    "#Defina uma matriz S com a soma das matrizes<BR>\n",
    "#Dica: Poderá ser preciso iniciar uma matriz com S com zeros para guardar a soma. <BR>\n",
    "#Dica 2: Poderá ser útil usar laços for embutidos dentro de outros laços for<BR>"
   ]
  },
  {
   "cell_type": "code",
   "execution_count": null,
   "metadata": {},
   "outputs": [],
   "source": [
    "A=[[1,2,3],[4,5,6],[2,2,2]]\n",
    "B=[[5,2,1],[2,1,7],[4,1,2]]\n",
    "#Calcule S"
   ]
  },
  {
   "cell_type": "markdown",
   "metadata": {},
   "source": [
    "Solução dos exercícios está logo abaixo (tente fazer do seu jeito antes de olhar)\n",
    "<BR><BR><BR><BR><BR><BR><BR><BR><BR><BR><BR><BR><BR><BR><BR><BR><BR><BR><BR><BR><BR><BR><BR><BR><BR><BR>\n",
    "<BR><BR><BR><BR><BR><BR><BR><BR><BR><BR><BR><BR><BR><BR><BR><BR><BR><BR><BR><BR><BR><BR><BR><BR><BR><BR>\n",
    "    "
   ]
  },
  {
   "cell_type": "code",
   "execution_count": null,
   "metadata": {},
   "outputs": [],
   "source": [
    "#Resposta do exercício 1:\n",
    "\n",
    "import random\n",
    "n = random.randint(1, 101) #Número aleatório de 1 a 100\n",
    "guess = int(input(\"Enter an integer from 1 to 100: \"))\n",
    "guess_count = 1\n",
    "guess_low = 1\n",
    "guess_high = 100\n",
    "while guess != n and guess > 0 and guess <101:\n",
    "    if guess < n:\n",
    "        guess_low=guess\n",
    "        print(f\"guess is low \\n{guess_count} guesses so far \\nO número está entre {guess_low} e {guess_high}\")\n",
    "        guess = int(input(f\"Enter an integer from {guess_low} to {guess_high}: \"))\n",
    "        guess_count+=1\n",
    "    elif guess > n:\n",
    "        guess_high=guess\n",
    "        print(f\"guess is high \\n{guess_count} guesses so far \\nO número está entre {guess_low} e {guess_high}\")\n",
    "        guess = int(input(f\"Enter an integer from {guess_low} to {guess_high}: \"))\n",
    "        guess_count+=1\n",
    "\n",
    "if guess==n:\n",
    "    print(f\"You guessed it! it took {guess_count} guesses\")"
   ]
  },
  {
   "cell_type": "code",
   "execution_count": null,
   "metadata": {},
   "outputs": [],
   "source": [
    "#Resposta exercicio 2\n",
    "X=[3,6,7,6]\n",
    "Y=[5,8,9,2]\n",
    "E=sum([i*j for i,j in zip(X,Y)])\n",
    "print(E)"
   ]
  },
  {
   "cell_type": "code",
   "execution_count": null,
   "metadata": {},
   "outputs": [],
   "source": [
    "#Resposta exercício 3\n",
    "S= [[0 for col in range(len(A))] for row in range(len(A))]# zero matrix\n",
    "for i in range(0,len(A)):\n",
    "    for j in range(0,len(A)):\n",
    "        S[i][j] =  A[i][j]+B[i][j]\n",
    "print(S)"
   ]
  },
  {
   "cell_type": "code",
   "execution_count": null,
   "metadata": {},
   "outputs": [],
   "source": [
    "#Resposta exercício 3\n",
    "#Solução alternativa com list comprehension\n",
    "S=[([sum(k) for k in zip(x, y)]) for x, y in zip(A, B)]\n",
    "print(S)"
   ]
  },
  {
   "cell_type": "code",
   "execution_count": null,
   "metadata": {},
   "outputs": [],
   "source": []
  }
 ],
 "metadata": {
  "kernelspec": {
   "display_name": "Python 3",
   "language": "python",
   "name": "python3"
  },
  "language_info": {
   "codemirror_mode": {
    "name": "ipython",
    "version": 3
   },
   "file_extension": ".py",
   "mimetype": "text/x-python",
   "name": "python",
   "nbconvert_exporter": "python",
   "pygments_lexer": "ipython3",
   "version": "3.7.4"
  }
 },
 "nbformat": 4,
 "nbformat_minor": 2
}
