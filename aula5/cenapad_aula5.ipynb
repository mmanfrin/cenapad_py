{
 "cells": [
  {
   "cell_type": "markdown",
   "metadata": {},
   "source": [
    "# Programa 1"
   ]
  },
  {
   "cell_type": "code",
   "execution_count": null,
   "metadata": {},
   "outputs": [],
   "source": [
    "#!/usr/bin/env python3\n",
    "print (\"Olá. Eu sou um programa em python\")\n",
    "a = 3\n",
    "b = 5\n",
    "c=a+b\n",
    "print(f\"A soma de {a} e {b} é {c}\")"
   ]
  },
  {
   "cell_type": "markdown",
   "metadata": {},
   "source": [
    "# Programa 2"
   ]
  },
  {
   "cell_type": "code",
   "execution_count": null,
   "metadata": {},
   "outputs": [],
   "source": [
    "#! /usr/bin/env python3\n",
    "import sys\n",
    "print (\"Olá. Eu sou um programa em python\")\n",
    "#sys.argv contém uma lista [nome_do_programa, arg1, arg2 .. argN]\n",
    "a = int(sys.argv[1])\n",
    "b = int(sys.argv[2])\n",
    "c = a+b\n",
    "print(f\"A soma de {a} e {b} é {c}\")"
   ]
  },
  {
   "cell_type": "markdown",
   "metadata": {},
   "source": [
    "# Programa 3"
   ]
  },
  {
   "cell_type": "code",
   "execution_count": null,
   "metadata": {},
   "outputs": [],
   "source": [
    "#!/usr/bin/env python3\n",
    "import sys\n",
    "#sys.argv contém uma lista dos argumentos passados\n",
    "numargs = len(sys.argv)\n",
    "if numargs < 3:\n",
    "    print(\"Usage: \", sys.argv[0] , \"<num1> <num2>\")  #ou sys.stderr.write(\"message\")\n",
    "    exit(1)  #Qualquer código de saída diferente de zero significa que o programa deu erro\n",
    "else:\n",
    "    a = int(sys.argv[1])\n",
    "    b = int(sys.argv[2])\n",
    "    c = a+b\n",
    "    print(f\"A soma de {a} e {b} é {c}\")"
   ]
  },
  {
   "cell_type": "markdown",
   "metadata": {},
   "source": [
    "# Estrutura de um módulo"
   ]
  },
  {
   "cell_type": "code",
   "execution_count": null,
   "metadata": {},
   "outputs": [],
   "source": [
    "#!/usr/bin/env python3\n",
    "import sys\n",
    "\n",
    "def funcao1(a,b,c):\n",
    "    #bloco de codigo\n",
    "    return qualquercoisa\n",
    "\n",
    "def funcao2(a,b,c):\n",
    "    #bloco de codigo\n",
    "    return qualquercoisa\n",
    "\n",
    "def main():\n",
    "    #código principal do programa\n",
    "#Se o programa for rodado diretamente, a variável implícita __name__ == ‘__main__’\n",
    "#Se for importado, __name__ será diferente de __main__ e o método main() não será executado\n",
    "\n",
    "if __name__ == '__main__':\n",
    "    main()"
   ]
  },
  {
   "cell_type": "markdown",
   "metadata": {},
   "source": [
    "### Exercício 1: Faça um módulo imc.py com sua rotina de cálculo de imc. Este programa deve ser implementado como um módulo que pode ser executado diretamente ou apenas importado. Os valores de peso e altura devem ser lidos a partir da linha de comando e o programa deve testar se recebeu exatamente dois argumentos.\n",
    "### Exercício 2: Faça um programa4.py que use a função de calc_imc do módulo imc.py"
   ]
  },
  {
   "cell_type": "code",
   "execution_count": null,
   "metadata": {},
   "outputs": [],
   "source": []
  }
 ],
 "metadata": {
  "kernelspec": {
   "display_name": "Python 3",
   "language": "python",
   "name": "python3"
  },
  "language_info": {
   "codemirror_mode": {
    "name": "ipython",
    "version": 3
   },
   "file_extension": ".py",
   "mimetype": "text/x-python",
   "name": "python",
   "nbconvert_exporter": "python",
   "pygments_lexer": "ipython3",
   "version": "3.6.7"
  }
 },
 "nbformat": 4,
 "nbformat_minor": 2
}
