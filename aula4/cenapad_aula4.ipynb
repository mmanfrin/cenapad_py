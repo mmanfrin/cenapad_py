{
 "cells": [
  {
   "cell_type": "markdown",
   "metadata": {},
   "source": [
    "<img src=cenapad.jpg align=left><BR><BR><BR><BR><BR><BR>\n",
    "<h1>Curso de Introdução à linguagem Python<BR>\n",
    "    Aula 4</h1>\n",
    "<img src=python-logo.png align=left>"
   ]
  },
  {
   "cell_type": "markdown",
   "metadata": {
    "slideshow": {
     "slide_type": "slide"
    }
   },
   "source": [
    "# Arquivos de texto\n",
    "\n",
    "Frequentemente é desejável que um programa processe ou gere um arquivo de texto.<BR>\n",
    "    Geralmente, precisamos processar arquivos com uma estrutura fixa, por exemplo, um arquivo com campos de dados separados por tabulações, vírgulas ou algum outro delimitador. Cada linha de um arquivo de texto estruturado representa dados referentes a algum objeto (dados de uma pessoa, por exemplo).<BR>\n",
    "    Estes arquivos podem ser gerados e abertos em editores de texto ou até mesmo em um software de planilhas como o Excel. A primeira linha, opcionalmente, contém um cabeçalho com a descrição dos campos."
   ]
  },
  {
   "cell_type": "markdown",
   "metadata": {
    "slideshow": {
     "slide_type": "subslide"
    }
   },
   "source": [
    "Há dois caracteres comuns usados para delimitar campos. O (\\t), ou tab e a vírgula (,).<BR>Os separadores de linha, no Linux são os caracteres de line feed (\\n) que NÃO são visíveis nos editores de texto. No Windows, o terminador de linha é composto de dois caracteres consecutivos: o carriage return (\\r) e o line feed (\\n). <br>Arquivos que usam tabulações para separar os campos geralmente são salvos com extensão tsv (tab separated values) e arquivos separados por vírgulas são salvos com extensão csv (comma separated values). No entanto, esta convenção nem sempre é seguida. É comum, portanto, se referir a arquivos de texto com delimitadores genericamente como csv."
   ]
  },
  {
   "cell_type": "raw",
   "metadata": {
    "slideshow": {
     "slide_type": "fragment"
    }
   },
   "source": [
    "Exemplo do conteúdo de um arquivo tsv com três campos representando dados de n indivíduos\n",
    "\n",
    "Sexo\\tPeso\\tIdade\n",
    "M\\t78\\t32\\n \n",
    "F\\t60\\t28\\n\n",
    "M\\t94\\t42\\n \n",
    "F\\t66\\t68\\n"
   ]
  },
  {
   "cell_type": "raw",
   "metadata": {
    "slideshow": {
     "slide_type": "fragment"
    }
   },
   "source": [
    "Exemplo de um arquivo csv com três campos representando dados de n indivíduos\n",
    "\n",
    "Sexo,Peso,Idade\n",
    "M,78,32\\n \n",
    "F,60,28\\n\n",
    "M,94,42\\n \n",
    "F,66,68\\n"
   ]
  },
  {
   "cell_type": "markdown",
   "metadata": {
    "slideshow": {
     "slide_type": "subslide"
    }
   },
   "source": [
    "### Observação:\n",
    "\n",
    "Não existe um padrão para dar nomes ou extensões a arquivos de texto. Usar csv ou tsv é apenas uma boa prática para intercâmbio de arquivos separados por tabs ou vírgulas. No entanto, você pode usar qualquer outra extensão."
   ]
  },
  {
   "cell_type": "markdown",
   "metadata": {
    "slideshow": {
     "slide_type": "skip"
    }
   },
   "source": [
    "---"
   ]
  },
  {
   "cell_type": "markdown",
   "metadata": {
    "slideshow": {
     "slide_type": "slide"
    }
   },
   "source": [
    "# Abrindo e lendo arquivos\n",
    "\n",
    "Primeiramente é preciso saber o caminho absoluto ou relativo onde está o arquivo de texto. Usa-se a função open() para obter um manipulador do arquivo no Python. Este manipulador de arquivo deve ser atribuído a uma variável. As operações no arquivo serão feitas sobre esta variável. Vejamos um exemplo:"
   ]
  },
  {
   "cell_type": "code",
   "execution_count": null,
   "metadata": {
    "slideshow": {
     "slide_type": "subslide"
    }
   },
   "outputs": [],
   "source": [
    "file_loc = 'elderlyHeightWeight.csv'  #caminho do arquivo\n",
    "f_hand = open(file_loc, 'r')  # o caracter r indica que estamos abrindo o arquivo para leitura\n",
    "print(f_hand) # imprime uma representação do manipulador do arquivo na memória (não o conteúdo em si)"
   ]
  },
  {
   "cell_type": "markdown",
   "metadata": {
    "slideshow": {
     "slide_type": "fragment"
    }
   },
   "source": [
    "No exemplo acima, abrimos um pequeno arquivo com os dados de altura e peso de um grupo de homens e mulheres idosos"
   ]
  },
  {
   "cell_type": "code",
   "execution_count": null,
   "metadata": {
    "slideshow": {
     "slide_type": "subslide"
    }
   },
   "outputs": [],
   "source": [
    "!cat elderlyHeightWeight.csv"
   ]
  },
  {
   "cell_type": "markdown",
   "metadata": {
    "slideshow": {
     "slide_type": "subslide"
    }
   },
   "source": [
    "A variável do manipulador de arquivos contém apenas um ponteiro pro arquivo. Podemos usá-la num \"for\" para processar as linhas do texto, uma por vez. Por exemplo, podemos simplesmente contar o número de linhas com o código abaixo."
   ]
  },
  {
   "cell_type": "code",
   "execution_count": null,
   "metadata": {
    "slideshow": {
     "slide_type": "fragment"
    }
   },
   "outputs": [],
   "source": [
    "count = 0 # inicializa contador de linha\n",
    "\n",
    "for line in f_hand: # para cada linha no manipulador de arquivo\n",
    "    count = count + 1  #incrementa contador de linhas\n",
    "f_hand.close()  # Aqui estamos fechando o arquivo que está aberto\n",
    "print(f\"There are {count} lines in the file.\")"
   ]
  },
  {
   "cell_type": "markdown",
   "metadata": {
    "slideshow": {
     "slide_type": "subslide"
    }
   },
   "source": [
    "Se você sabe que seu arquivo é pequeno, você pode ler seu conteúdo inteiro para uma variável de uma única vez com o comando read()\n",
    "Atente-se que as variáveis são armazenadas em memória RAM, então não faça isso se seu arquivo tiver vários Megabytes ou Gigabytes."
   ]
  },
  {
   "cell_type": "code",
   "execution_count": null,
   "metadata": {
    "slideshow": {
     "slide_type": "skip"
    }
   },
   "outputs": [],
   "source": [
    "file_loc = 'elderlyHeightWeight.csv'\n",
    "f_hand = open(file_loc, 'r')\n",
    "f_data = f_hand.read()  #Lê todo o conteúdo do arquivo para uma única string\n",
    "f_hand.close() # Aqui estamos fechando o arquivo que está aberto\n",
    "print(f_data)"
   ]
  },
  {
   "cell_type": "code",
   "execution_count": null,
   "metadata": {
    "slideshow": {
     "slide_type": "skip"
    }
   },
   "outputs": [],
   "source": [
    "f_hand = open(file_loc) #Abrindo de novo. Volta pro início do arquivo. Por padrão os arquivos são abertos como r (leitura)\n",
    "print(f_hand.readline(), end = '') #A função readline() lê UMA linha do arquivo como string\n",
    "print(f_hand.readline(), end = '')\n",
    "f_hand.close()  #Aqui estamos fechando o arquivo\n",
    "f_hand = open(file_loc) #Abrindo de novo o arquivo, voltando pro início\n",
    "lines = f_hand.readlines() #A função readlines() lê todas as linhas do arquivo e retorna uma lista de strings (uma para cada linha)\n",
    "print(type(lines))\n",
    "f_hand.close()"
   ]
  },
  {
   "cell_type": "code",
   "execution_count": null,
   "metadata": {
    "slideshow": {
     "slide_type": "skip"
    }
   },
   "outputs": [],
   "source": [
    "file_loc = 'elderlyHeightWeight.csv'\n",
    "f_hand = open(file_loc, 'r')\n",
    "f_data = f_hand.read() #Lê o arquivo inteiro para uma única string (contendo inclusive os \\n dos fins das linhas )\n",
    "print(len(f_data)) #O comprimento da string é o tamanho do arquivo\n",
    "print( f_data[:10]) #Imprime os 10 primeiros caracteres (slice da string)\n",
    "f_hand.close()"
   ]
  },
  {
   "cell_type": "code",
   "execution_count": null,
   "metadata": {
    "slideshow": {
     "slide_type": "skip"
    }
   },
   "outputs": [],
   "source": [
    "f_hand = open(file_loc, 'r')\n",
    "line = f_hand.readline() # primeira linha. O ponteiro interno do f_hand se deslocará para o início da segunda linha\n",
    "print(line)\n",
    "\n",
    "line=f_hand.readline()  # segunda linha. O ponteiro interno do f_hand se deslocará para o início da terceira linha\n",
    "print(line)"
   ]
  },
  {
   "cell_type": "code",
   "execution_count": null,
   "metadata": {
    "scrolled": true,
    "slideshow": {
     "slide_type": "skip"
    }
   },
   "outputs": [],
   "source": [
    "line = f_hand.readline() # lê mais uma linha (observe que como não fechamos o arquivo, o ponteiro continua onde estava)\n",
    "line"
   ]
  },
  {
   "cell_type": "markdown",
   "metadata": {
    "slideshow": {
     "slide_type": "subslide"
    }
   },
   "source": [
    "O método strip() (veja [aqui](https://docs.python.org/3/library/string.html) na seção String Methods) remove espaços em branco no início e no fim das linhas, removendo também o caracter de fim de linha \"\\n\"."
   ]
  },
  {
   "cell_type": "code",
   "execution_count": null,
   "metadata": {
    "slideshow": {
     "slide_type": "skip"
    }
   },
   "outputs": [],
   "source": [
    "f_hand.close() #Fechando o arquivo\n",
    "f_hand = open(file_loc, 'r')#Abrindo de novo. Ponteiro volta pro início do arquivo\n",
    "line = f_hand.readline().strip() # lê uma linha e tira o \"\\n\" do final\n",
    "line # sem \\n!\n",
    "\n"
   ]
  },
  {
   "cell_type": "markdown",
   "metadata": {
    "slideshow": {
     "slide_type": "skip"
    }
   },
   "source": [
    "Existem também os métodos ```lstrip()``` e ```rstrip()``` para remover espaços em branco do início e fim de uma string.\n",
    "\n",
    "O método ```readlines()``` lê todas as linhas de um arquivo para uma lista de strings. As linhas, neste caso, contêm o \"\\n\" no final. "
   ]
  },
  {
   "cell_type": "code",
   "execution_count": null,
   "metadata": {
    "slideshow": {
     "slide_type": "skip"
    }
   },
   "outputs": [],
   "source": [
    "f_hand.close()\n",
    "f_hand = open(file_loc, 'r')\n",
    "lines = f_hand.readlines()\n",
    "print(lines[0:2]) # imprime uma sublista com as 2 primeiras strings\n",
    "print(len(lines)) #Número de linhas é o tamanho da lista"
   ]
  },
  {
   "cell_type": "code",
   "execution_count": null,
   "metadata": {
    "slideshow": {
     "slide_type": "skip"
    }
   },
   "outputs": [],
   "source": [
    "for i in range(4):  #4 primeiras linhas (linhas 0,1,2,3)\n",
    "    print (lines[i].strip())  #COmo a função print já adiciona um \"\\n\", usamos o strip para remover o \\n de cada string"
   ]
  },
  {
   "cell_type": "markdown",
   "metadata": {
    "slideshow": {
     "slide_type": "skip"
    }
   },
   "source": [
    "###  Uma implementação alternativa"
   ]
  },
  {
   "cell_type": "code",
   "execution_count": null,
   "metadata": {
    "slideshow": {
     "slide_type": "skip"
    }
   },
   "outputs": [],
   "source": [
    "for i, line in enumerate(lines):   #enumerate retorna tuplas (i,line) onde i é um contador de linhas\n",
    "    if i<4: #para na quinta linha (lembre-se que começa do zero)\n",
    "      print(line.strip())"
   ]
  },
  {
   "cell_type": "markdown",
   "metadata": {
    "slideshow": {
     "slide_type": "skip"
    }
   },
   "source": [
    "---"
   ]
  },
  {
   "cell_type": "markdown",
   "metadata": {
    "slideshow": {
     "slide_type": "skip"
    }
   },
   "source": [
    "\n",
    "Um método bem útil é o ```splitlines()``` que faz o mesmo que o ```readlines()``` mas remove o ```\\n``` automaticamente. No entanto, diferentemente do readlines que é um método do file handle, splitlines é um método de strings. O exemplo abaixo lê o arquivo inteiro para uma string com f_hand.read() e imediatamente faz o splitlines desta string com f_hand.read().splitlines() ."
   ]
  },
  {
   "cell_type": "code",
   "execution_count": null,
   "metadata": {
    "slideshow": {
     "slide_type": "skip"
    }
   },
   "outputs": [],
   "source": [
    "f_hand = open(file_loc, 'r')\n",
    "lines = f_hand.read().splitlines() # lê arquivo, coloca as linhas em listas, remove os \\n do fim de cada linha\n",
    "for i in range(4):\n",
    "    print (lines[i])\n",
    "f_hand.close()"
   ]
  },
  {
   "cell_type": "markdown",
   "metadata": {
    "slideshow": {
     "slide_type": "skip"
    }
   },
   "source": [
    "Lembrem-se de fechar os arquivos com a função close(). Deixá-los abertos aumenta o uso de memória e pode levar a arquivos corrompidos.\n",
    "\n",
    "Vamos usar um método dos objetos string para filtrar apenas os indivíduos do sexo masculino. O método é o ```startswith()``` - que retorna verdadeiro se a string começa com o argumento pasado (M, neste caso) ou falso, caso contrário."
   ]
  },
  {
   "cell_type": "code",
   "execution_count": null,
   "metadata": {},
   "outputs": [],
   "source": [
    "file_loc = 'elderlyHeightWeight.csv' # caminho do arquivo\n",
    "f_hand = open(file_loc, 'r')\n",
    "lines = f_hand.read().splitlines() # linhas para uma lista, sem os \"\\n\"\n",
    "print (lines[0]) # cabeçalho (primeira linha)\n",
    "\n",
    "for line in lines: # Filtrando indivíduos do sexo masculino\n",
    "    if line.startswith('M'):\n",
    "        print (line)\n",
    "    \n",
    "f_hand.close()    "
   ]
  },
  {
   "cell_type": "markdown",
   "metadata": {
    "slideshow": {
     "slide_type": "skip"
    }
   },
   "source": [
    "## Outro jeito de fazer filtros (usando uma função)"
   ]
  },
  {
   "cell_type": "code",
   "execution_count": null,
   "metadata": {
    "slideshow": {
     "slide_type": "skip"
    }
   },
   "outputs": [],
   "source": [
    "def filter_function(line):  #eu poderia definir qualquer filtro aqui, mas vamos repetir o mesmo exemplo acima\n",
    "    return line.startswith('M') #True se string começa com \"M\". False, caso contrário"
   ]
  },
  {
   "cell_type": "code",
   "execution_count": null,
   "metadata": {
    "slideshow": {
     "slide_type": "skip"
    }
   },
   "outputs": [],
   "source": [
    "f_hand = open(file_loc)\n",
    "lines = f_hand.readlines()  #Lê todo o arquivo para uma lista de strings\n",
    "male_gender = filter(filter_function, lines)  #Método filter recebe como argumentos o nome de uma função e uma lista, retorna outra lista filtrada\n",
    "print(lines[0].strip()) #Imprime cabeçalho\n",
    "for ml in male_gender: #Para cada indivíduo do sexo masculino\n",
    "    print(ml.strip())  #Retira o \\n e imprime\n",
    "f_hand.close()"
   ]
  },
  {
   "cell_type": "markdown",
   "metadata": {
    "slideshow": {
     "slide_type": "skip"
    }
   },
   "source": [
    "## Exemplos"
   ]
  },
  {
   "cell_type": "markdown",
   "metadata": {
    "slideshow": {
     "slide_type": "skip"
    }
   },
   "source": [
    "### Mostrando o conteúdo do arquivo usando um comando do shell (cat)\n"
   ]
  },
  {
   "cell_type": "code",
   "execution_count": null,
   "metadata": {
    "slideshow": {
     "slide_type": "skip"
    }
   },
   "outputs": [],
   "source": [
    "!cat elderlyHeightWeight.csv"
   ]
  },
  {
   "cell_type": "markdown",
   "metadata": {
    "slideshow": {
     "slide_type": "skip"
    }
   },
   "source": [
    "### Exemplo 2\n",
    "\n",
    "Imprime todas as linhas onde a idade está no intervalo `[70, 80)`"
   ]
  },
  {
   "cell_type": "code",
   "execution_count": null,
   "metadata": {
    "scrolled": true,
    "slideshow": {
     "slide_type": "skip"
    }
   },
   "outputs": [],
   "source": [
    "f_hand = open(file_loc)\n",
    "for i, line in enumerate(f_hand):\n",
    "    if i == 0:\n",
    "        continue  #continue força ir pra próxima iteração do for (Efeito: pula o cabeçalho)\n",
    "    line = line.strip()  #Remove o \\n\n",
    "    gender, age, weight, height = line.split('\\t')  #Separa a string por tabulações. Retorna uma lista de substrings\n",
    "    if 70 <= int(age) < 80:\n",
    "        print(line)\n",
    "f_hand.close()"
   ]
  },
  {
   "cell_type": "markdown",
   "metadata": {
    "slideshow": {
     "slide_type": "skip"
    }
   },
   "source": [
    "### Exercício 1\n",
    "\n",
    "Processe o arquivo para responder:\n",
    "\n",
    "1.1) número de indivíduos de cada sexo\n",
    "\n",
    "1.2) média de peso e de idade por sexo\n",
    "\n"
   ]
  },
  {
   "cell_type": "markdown",
   "metadata": {
    "slideshow": {
     "slide_type": "skip"
    }
   },
   "source": [
    "---"
   ]
  },
  {
   "cell_type": "markdown",
   "metadata": {
    "collapsed": true,
    "slideshow": {
     "slide_type": "slide"
    }
   },
   "source": [
    "# O módulo ```csv``` \n",
    "\n",
    "Embora possamos ler e escrever dados de/para um arquivo usando python puro como fizemos até aqui, existem bibliotecas que facilitam estas operações para arquivos separados por delimitadores. A mais usada é a biblioteca [```csv```](http://www.pythonforbeginners.com/systems-programming/using-the-csv-module-in-python/). Apesar do nome csv , ela trata arquivos separados por qualquer delimitador que indicarmos.Para usá-la, precisamos fazer um ```import``` ."
   ]
  },
  {
   "cell_type": "code",
   "execution_count": null,
   "metadata": {
    "slideshow": {
     "slide_type": "subslide"
    }
   },
   "outputs": [],
   "source": [
    "import csv"
   ]
  },
  {
   "cell_type": "markdown",
   "metadata": {
    "slideshow": {
     "slide_type": "fragment"
    }
   },
   "source": [
    "Para ler dados de um arquivo com separadores use a função ```reader()```. A função ```reader()``` pega cada linha do arquivo e cria um objeto da classe ```reader```.\n",
    "<BR>\n",
    "Um método de ```reader``` é o ```.next()``` que usaremos para acessar uma linha de cada vez. Uma vez que processamos uma linha, o objeto .next() apontará pra próxima."
   ]
  },
  {
   "cell_type": "markdown",
   "metadata": {
    "slideshow": {
     "slide_type": "subslide"
    }
   },
   "source": [
    "## Observação:\n",
    "\n",
    "Daqui em diante, vamos usar declarações `with/as` para manipular arquivos. Este é o jeito mais usado em a partir do Python3 e deixa o código mais legível.\n"
   ]
  },
  {
   "cell_type": "code",
   "execution_count": null,
   "metadata": {
    "slideshow": {
     "slide_type": "skip"
    }
   },
   "outputs": [],
   "source": [
    "import csv\n",
    "with open('elderlyHeightWeight.csv', 'r') as csvfile:\n",
    "    reader = csv.reader(csvfile, delimiter='\\t') # observe que estamos indicando que o delimitador é um tab\n",
    "    header = next(reader)  #Retorna uma lista de strings\n",
    "    print (header)  #observe que next(reader) retorna uma lista de strings\n",
    "    print () # imprime uma linha em branco\n",
    "\n",
    "    for i in range(4):\n",
    "        print (next(reader)) # imprime as 4 linhas seguintes após o cabeçalho"
   ]
  },
  {
   "cell_type": "markdown",
   "metadata": {
    "slideshow": {
     "slide_type": "subslide"
    }
   },
   "source": [
    "Observe que todos os valores são lidos como strings. Lembre-se de convertê-los para números se for usá-los em algum cálculo. \n",
    "\n",
    "Podemos usar o módulo csv para selecionar colunas inteiras da seguinte forma."
   ]
  },
  {
   "cell_type": "code",
   "execution_count": null,
   "metadata": {
    "slideshow": {
     "slide_type": "subslide"
    }
   },
   "outputs": [],
   "source": [
    "\n",
    "with open('elderlyHeightWeight.csv', 'r') as csvfile:\n",
    "    reader = csv.reader(csvfile, delimiter='\\t') # delimitador é tab\n",
    "\n",
    "    # use o método next() para pegar a primeira linha com os cabeçalhos\n",
    "    headers = next(reader)  #headers agora é uma lista de strings\n",
    "    print(headers)\n",
    "    \n",
    "    # weight é o terceiro campo (indice 2), height é o quarto (índice 3)\n",
    "    \n",
    "    weight  = ['Weight'] # lista para guardar os weights, inicializando com o cabeçalho\n",
    "    height = ['Height']  # lista para guardar os heights, inicializando com o cabeçalho\n",
    "\n",
    "    for row in reader:  #Implicitamente é chamado o método next para acessar todas as linhas do arquivo\n",
    "        weight.append(row[2])  #Vai colocando cada weight na lista\n",
    "        height.append(row[3])  #Vai colocando cada height na lista\n",
    "    \n",
    "    print (weight)\n",
    "    print (height)"
   ]
  },
  {
   "cell_type": "markdown",
   "metadata": {
    "slideshow": {
     "slide_type": "slide"
    }
   },
   "source": [
    "# Escrevendo arquivos"
   ]
  },
  {
   "cell_type": "markdown",
   "metadata": {
    "slideshow": {
     "slide_type": "subslide"
    }
   },
   "source": [
    "Para abrir um arquivo para escrita usamos o parâmetro ```'w'``` (write) na chamada ao ```open()``` . Se o arquivo não existe, um novo arquivo é criado com o nome e extensão dado. \n",
    "\n",
    "Se o arquivo já existe, todo o seu conteúdo é apagado e o arquivo será escrito do zero.\n",
    "\n",
    "Depois de abrir o arquivo com open(), usamos o método ```write()``` no manipulador de arquivos para escrever nele.\n",
    "\n",
    "Vamos abrir um arquivo de teste e escrever alguma coisa nele. "
   ]
  },
  {
   "cell_type": "code",
   "execution_count": null,
   "metadata": {
    "slideshow": {
     "slide_type": "subslide"
    }
   },
   "outputs": [],
   "source": [
    "with open('test.txt', 'w') as f_out:\n",
    "    for i in range(10):\n",
    "        line  = 'Line ' + str(i) + '\\n'\n",
    "        f_out.write(line)"
   ]
  },
  {
   "cell_type": "markdown",
   "metadata": {
    "slideshow": {
     "slide_type": "slide"
    }
   },
   "source": [
    "## Exemplo\n",
    "\n",
    "Use o módulo csv para abrir o arquivo ```elderlyHeightWeight.csv```. Escreva um novo arquivo (male_data.tsv) contendo apenas os dados dos homens (Gender M).\n",
    "\n",
    "Obs: ```csv.reader``` são listas. O método ```.join()``` concatena elementos de listas usando uma string como delimitador."
   ]
  },
  {
   "cell_type": "code",
   "execution_count": null,
   "metadata": {},
   "outputs": [],
   "source": [
    "import csv\n",
    "with open('elderlyHeightWeight.csv', 'r') as csvfile, open('male_data.tsv', 'w') as new_file:   #Abrindo dois arquivos de uma vez\n",
    "    reader = csv.reader(csvfile, delimiter='\\t') # define the field delimiter\n",
    "    # use o método next() para pegar a primeira linha com os cabeçalhos\n",
    "    headers = next(reader)\n",
    "    new_file.write('\\t'.join(headers) + '\\n')\n",
    "    for row in reader:  \n",
    "        if row[0]==\"M\":\n",
    "            new_file.write('\\t'.join(row) + '\\n')\n",
    "    "
   ]
  },
  {
   "cell_type": "markdown",
   "metadata": {
    "collapsed": true,
    "slideshow": {
     "slide_type": "subslide"
    }
   },
   "source": [
    "## Adicionando dados a um arquivo já existente\n",
    "\n",
    "Usa-se o argumento ```'a'``` de append na função ```open()```. Desta forma o conteúdo existente do arquivo será preservado e as novas linhas serão escritas no final. Vamos abrir o arquivo com os dados dos homens que acabamos de gerar no modo append e adicionar os dados das mulheres. Observe aqui uma nova estrutura, o try/except , usada aqui para imprimir uma mensagem de erro caso algum arquivo não exista ao tentarmos abri-lo."
   ]
  },
  {
   "cell_type": "code",
   "execution_count": null,
   "metadata": {
    "slideshow": {
     "slide_type": "subslide"
    }
   },
   "outputs": [],
   "source": [
    "import csv\n",
    "try:\n",
    "    with open('male_data.tsv', 'a') as new_file, open('elderlyHeightWeight.csv', 'r') as f_hand: \n",
    "        reader = csv.reader(f_hand, delimiter='\\t') # delimitador é tab\n",
    "        female_data = [line for line in reader if line[0] == 'F']\n",
    "        for line in female_data:\n",
    "            new_file.write('\\t'.join(line)+'\\n')\n",
    "except FileNotFoundError:\n",
    "    print('The file does not exist.')"
   ]
  },
  {
   "cell_type": "markdown",
   "metadata": {
    "slideshow": {
     "slide_type": "skip"
    }
   },
   "source": [
    "## Exercício 2\n",
    "\n",
    "Leia o arquivo elderlyHeightWeight.csv , calcule o IMC de cada indivíduo e gere um novo arquivo chamado elderlyHeightWeightImc.csv com 5 colunas (as mesmas 4 do arquivo original mais uma coluna pro IMC calculado). Gere também um arquivo \"overweight.csv\" com 5 colunas, contendo apenas os indivíduos com IMC >=30.\n",
    "\n",
    "IMC = Peso / Altura * Altura   \n",
    "\n",
    "Na fórmula acima, altura está em metros. No arquivo está em centímetros. Use a função imc que você definiu ontem.\n"
   ]
  },
  {
   "cell_type": "code",
   "execution_count": null,
   "metadata": {},
   "outputs": [],
   "source": []
  }
 ],
 "metadata": {
  "kernelspec": {
   "display_name": "Python 3",
   "language": "python",
   "name": "python3"
  },
  "language_info": {
   "codemirror_mode": {
    "name": "ipython",
    "version": 3
   },
   "file_extension": ".py",
   "mimetype": "text/x-python",
   "name": "python",
   "nbconvert_exporter": "python",
   "pygments_lexer": "ipython3",
   "version": "3.6.7"
  }
 },
 "nbformat": 4,
 "nbformat_minor": 1
}
