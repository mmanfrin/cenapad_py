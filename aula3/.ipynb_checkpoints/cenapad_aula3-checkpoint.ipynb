{
 "cells": [
  {
   "cell_type": "markdown",
   "metadata": {},
   "source": [
    "<img src=cenapad.jpg align=left><BR><BR><BR><BR><BR><BR>\n",
    "<h1>Curso de Introdução à linguagem Python<BR>\n",
    "Aula 3</h1>\n",
    "<img src=python-logo.png align=left>"
   ]
  },
  {
   "cell_type": "markdown",
   "metadata": {},
   "source": [
    "# Dicionários"
   ]
  },
  {
   "cell_type": "markdown",
   "metadata": {},
   "source": [
    "Dicionário (dict) é uma estrutura de dados em Python que é usada para mapear um conjunto de objetos denominados chaves (keys) a um conjunto de objetos chamados valores (values). As chaves de um dicionário devem ser únicas, ou seja, não são admitidas chaves duplicadas. As chaves podem ser números ou strings. Já os valores podem ser objetos de qualquer tipo: números, strings, listas, tuplas, outros dicionários etc."
   ]
  },
  {
   "cell_type": "markdown",
   "metadata": {},
   "source": [
    "Diferentemente de uma lista, em que os elementos têm índices que são números inteiros consecutivos, um dicionário pode ter chaves (índices) do tipo string. Por definição, dicionários não são ordenados, embora possamos usar métodos para iterar sobre eles usando alguma ordem definida. É possível apagar elementos (chave:valor) de um dicionário. Também é possível criar novas chaves em tempo de execução e mudar seus valores."
   ]
  },
  {
   "cell_type": "markdown",
   "metadata": {},
   "source": [
    "Nem todas as linguagens de programação disponibilizam estruturas semelhantes a dicionários. É mais comum em linguagens interpretadas tais como Perl (onde são chamados de hashes) e Javascript. Os dicionários proporcionam grande flexibilidade ao programador e escrita de códigos muito sucintos. No entanto, o preço a se pagar é o uso de muito mais memória RAM do que seria necessário para armazenar os dados em listas, por exemplo. Normalmente isto não é um problema nos desktops modernos caso se esteja trabalhando com uma quantidade razoável de dados."
   ]
  },
  {
   "cell_type": "markdown",
   "metadata": {},
   "source": [
    "Um dicionário é representado entre \"{\" e \"}\". No entanto, seus elementos são acessados usando a mesma notação que usamos para acessar elementos de listas (entre colchetes \"[\" e \"]\"."
   ]
  },
  {
   "cell_type": "code",
   "execution_count": 1,
   "metadata": {},
   "outputs": [],
   "source": [
    "#Exemplo de dicionário em Python\n",
    "#Um dicionário funciona como uma lista (vetor ou array em outras linguagens), porém os elementos podem ser recuperados \n",
    "#por índices não numéricos também (Ex: strings)\n",
    "meses2dias = {'janeiro': 31, 'fevereiro': 28, 'março': 31, 'abril': 30, 'maio': 31, \n",
    "              'junho': 30, 'julho': 31, 'agosto': 31, 'setembro': 30, 'outubro': 31, \n",
    "              'novembro': 30, 'dezembro': 31}"
   ]
  },
  {
   "cell_type": "code",
   "execution_count": 2,
   "metadata": {},
   "outputs": [
    {
     "data": {
      "text/plain": [
       "28"
      ]
     },
     "execution_count": 2,
     "metadata": {},
     "output_type": "execute_result"
    }
   ],
   "source": [
    "meses2dias['fevereiro']"
   ]
  },
  {
   "cell_type": "code",
   "execution_count": 3,
   "metadata": {},
   "outputs": [],
   "source": [
    "ano=2016"
   ]
  },
  {
   "cell_type": "code",
   "execution_count": 4,
   "metadata": {},
   "outputs": [],
   "source": [
    "#Se o ano for bissexto, vamos mudar o valor de meses2dias[fevereiro] para 29\n",
    "if (ano % 4 == 0 and not ano % 100 == 0) or (ano % 400 == 0):\n",
    "    meses2dias['fevereiro']=29"
   ]
  },
  {
   "cell_type": "code",
   "execution_count": 5,
   "metadata": {
    "scrolled": true
   },
   "outputs": [
    {
     "data": {
      "text/plain": [
       "29"
      ]
     },
     "execution_count": 5,
     "metadata": {},
     "output_type": "execute_result"
    }
   ],
   "source": [
    "meses2dias['fevereiro']"
   ]
  },
  {
   "cell_type": "markdown",
   "metadata": {},
   "source": [
    "Criando um dicionário vazio:"
   ]
  },
  {
   "cell_type": "code",
   "execution_count": 6,
   "metadata": {},
   "outputs": [],
   "source": [
    "# dicionário vazio\n",
    "my_dict = {}"
   ]
  },
  {
   "cell_type": "code",
   "execution_count": 7,
   "metadata": {},
   "outputs": [
    {
     "name": "stdout",
     "output_type": "stream",
     "text": [
      "{1: 'maçã', 2: 'laranja'}\n",
      "{'nome': 'Ana', 1: [2, 4, 3]}\n",
      "{1: 'goiaba', 2: 'melancia'}\n"
     ]
    }
   ],
   "source": [
    "# dicionário com chaves numéricas (inteiros)\n",
    "my_dict1 = {1: 'maçã', 2: 'laranja'}\n",
    "\n",
    "# dictionário com misturas de chaves string e numéricas. Observe que os valores também podem ser listas\n",
    "my_dict2 = {'nome': 'Ana', 1: [2, 4, 3]}\n",
    "\n",
    "# criando um dicionário a partir de uma lista de tuplas de chaves,valor com o método dict\n",
    "my_dict3 = dict([(1,'goiaba'), (2,'melancia')])\n",
    "print(my_dict1)\n",
    "print(my_dict2)\n",
    "print(my_dict3)"
   ]
  },
  {
   "cell_type": "code",
   "execution_count": 8,
   "metadata": {},
   "outputs": [
    {
     "name": "stdout",
     "output_type": "stream",
     "text": [
      "['janeiro', 'fevereiro', 'março', 'abril', 'maio', 'junho', 'julho', 'agosto', 'setembro', 'outubro', 'novembro', 'dezembro']\n"
     ]
    }
   ],
   "source": [
    "#Criando lista com todas as chaves de um dicionário\n",
    "meses=list(meses2dias.keys())\n",
    "print(meses)"
   ]
  },
  {
   "cell_type": "code",
   "execution_count": 9,
   "metadata": {},
   "outputs": [
    {
     "name": "stdout",
     "output_type": "stream",
     "text": [
      "[31, 29, 31, 30, 31, 30, 31, 31, 30, 31, 30, 31]\n"
     ]
    }
   ],
   "source": [
    "#Criando uma lista com todos os valores de um dicionário\n",
    "dias=list(meses2dias.values())\n",
    "print(dias)"
   ]
  },
  {
   "cell_type": "code",
   "execution_count": 10,
   "metadata": {},
   "outputs": [
    {
     "data": {
      "text/plain": [
       "['janeiro', 'março', 'maio', 'julho', 'agosto', 'outubro', 'dezembro']"
      ]
     },
     "execution_count": 10,
     "metadata": {},
     "output_type": "execute_result"
    }
   ],
   "source": [
    "#Lista de meses com 31 dias usando list comprehension\n",
    "meses_de_31 = [m for m in meses if meses2dias[m]==31]\n",
    "meses_de_31"
   ]
  },
  {
   "cell_type": "code",
   "execution_count": 11,
   "metadata": {},
   "outputs": [
    {
     "name": "stdout",
     "output_type": "stream",
     "text": [
      "janeiro\n",
      "fevereiro\n",
      "março\n",
      "abril\n",
      "maio\n",
      "junho\n",
      "julho\n",
      "agosto\n",
      "setembro\n",
      "outubro\n",
      "novembro\n",
      "dezembro\n"
     ]
    }
   ],
   "source": [
    "#Iterando por todas as chaves de um dicionário num for\n",
    "for x in meses2dias:\n",
    "    print(x)"
   ]
  },
  {
   "cell_type": "code",
   "execution_count": 12,
   "metadata": {},
   "outputs": [
    {
     "name": "stdout",
     "output_type": "stream",
     "text": [
      "janeiro tem 31 dias\n",
      "fevereiro tem 29 dias\n",
      "março tem 31 dias\n",
      "abril tem 30 dias\n",
      "maio tem 31 dias\n",
      "junho tem 30 dias\n",
      "julho tem 31 dias\n",
      "agosto tem 31 dias\n",
      "setembro tem 30 dias\n",
      "outubro tem 31 dias\n",
      "novembro tem 30 dias\n",
      "dezembro tem 31 dias\n"
     ]
    }
   ],
   "source": [
    "#Podemos também usar os valores de um dicionário num laço for\n",
    "for x in meses2dias:\n",
    "    print(f\"{x} tem {meses2dias[x]} dias\")"
   ]
  },
  {
   "cell_type": "code",
   "execution_count": 13,
   "metadata": {},
   "outputs": [
    {
     "name": "stdout",
     "output_type": "stream",
     "text": [
      "janeiro tem 31 dias\n",
      "fevereiro tem 29 dias\n",
      "março tem 31 dias\n",
      "abril tem 30 dias\n",
      "maio tem 31 dias\n",
      "junho tem 30 dias\n",
      "julho tem 31 dias\n",
      "agosto tem 31 dias\n",
      "setembro tem 30 dias\n",
      "outubro tem 31 dias\n",
      "novembro tem 30 dias\n",
      "dezembro tem 31 dias\n"
     ]
    }
   ],
   "source": [
    "#Também podemos obter chaves e valores simultaneamente na declaração for usando o método .items()\n",
    "for m,d in meses2dias.items():\n",
    "    print(f\"{m} tem {d} dias\")"
   ]
  },
  {
   "cell_type": "code",
   "execution_count": 14,
   "metadata": {},
   "outputs": [
    {
     "name": "stdout",
     "output_type": "stream",
     "text": [
      "{'janeiro': 31, 'fevereiro': 29, 'março': 31, 'abril': 30, 'maio': 31, 'junho': 30, 'julho': 31, 'setembro': 30, 'outubro': 31, 'novembro': 30, 'dezembro': 31}\n"
     ]
    }
   ],
   "source": [
    "#É possível apagar (deletar) uma chave de um dicionário. Vamos apagar o mês agosto.\n",
    "del(meses2dias[\"agosto\"])\n",
    "print(meses2dias)"
   ]
  },
  {
   "cell_type": "code",
   "execution_count": 15,
   "metadata": {},
   "outputs": [
    {
     "name": "stdout",
     "output_type": "stream",
     "text": [
      "{'janeiro': 31, 'fevereiro': 29, 'março': 31, 'abril': 30, 'maio': 31, 'junho': 30, 'julho': 31, 'setembro': 30, 'outubro': 31, 'novembro': 30, 'dezembro': 31, 'agosto': 31}\n"
     ]
    }
   ],
   "source": [
    "#Ao adicionar novamente o mês de agosto, parece que ele vai parar no fim do dicionário. \n",
    "#No entanto, não há ordem definida para os elementos de um dicionário. É uma estrutura intrinsicamente desordenada.\n",
    "#Não temos controle sobre a ordem em que os elementos são mostrados num print.\n",
    "#Acrescentando o mês de agosto com 31 dias\n",
    "meses2dias[\"agosto\"]=31\n",
    "print(meses2dias)"
   ]
  },
  {
   "cell_type": "code",
   "execution_count": 16,
   "metadata": {},
   "outputs": [
    {
     "data": {
      "text/plain": [
       "12"
      ]
     },
     "execution_count": 16,
     "metadata": {},
     "output_type": "execute_result"
    }
   ],
   "source": [
    "#O método len pode ser usado para retornar o número de elementos num dicionário\n",
    "len(meses2dias)"
   ]
  },
  {
   "cell_type": "code",
   "execution_count": 17,
   "metadata": {},
   "outputs": [
    {
     "name": "stdout",
     "output_type": "stream",
     "text": [
      "{1: 'maçã', 2: 'laranja'}\n"
     ]
    }
   ],
   "source": [
    "#Podemos usar o método del para apagar todo o dicionário de uma vez\n",
    "print(my_dict1)"
   ]
  },
  {
   "cell_type": "code",
   "execution_count": 18,
   "metadata": {},
   "outputs": [],
   "source": [
    "#Apagando o dicionário\n",
    "del(my_dict1)"
   ]
  },
  {
   "cell_type": "code",
   "execution_count": 19,
   "metadata": {},
   "outputs": [
    {
     "ename": "NameError",
     "evalue": "name 'my_dict1' is not defined",
     "output_type": "error",
     "traceback": [
      "\u001b[1;31m---------------------------------------------------------------------------\u001b[0m",
      "\u001b[1;31mNameError\u001b[0m                                 Traceback (most recent call last)",
      "\u001b[1;32m<ipython-input-19-a4320deb9737>\u001b[0m in \u001b[0;36m<module>\u001b[1;34m\u001b[0m\n\u001b[0;32m      1\u001b[0m \u001b[1;31m#Deve dar um erro porque o dicionário não existe mais\u001b[0m\u001b[1;33m\u001b[0m\u001b[1;33m\u001b[0m\u001b[1;33m\u001b[0m\u001b[0m\n\u001b[1;32m----> 2\u001b[1;33m \u001b[0mprint\u001b[0m\u001b[1;33m(\u001b[0m\u001b[0mmy_dict1\u001b[0m\u001b[1;33m)\u001b[0m\u001b[1;33m\u001b[0m\u001b[1;33m\u001b[0m\u001b[0m\n\u001b[0m",
      "\u001b[1;31mNameError\u001b[0m: name 'my_dict1' is not defined"
     ]
    }
   ],
   "source": [
    "#Deve dar um erro porque o dicionário não existe mais\n",
    "print(my_dict1)"
   ]
  },
  {
   "cell_type": "code",
   "execution_count": 20,
   "metadata": {},
   "outputs": [
    {
     "name": "stdout",
     "output_type": "stream",
     "text": [
      "Chave nome:  Ana\n",
      "Chave 1:  [2, 4, 3]\n",
      "Chave 1 - 1o. elemento da lista:  2\n"
     ]
    }
   ],
   "source": [
    "#Lá acima definimos um dicionário chamado my_dict2 = {'nome': 'Ana', 1: [2, 4, 3]}. Vamos acessar suas partes:\n",
    "my_dict2 = {'nome': 'Ana', 1: [2, 4, 3]}\n",
    "print(\"Chave nome: \", my_dict2[\"nome\"])\n",
    "print(\"Chave 1: \", my_dict2[1])\n",
    "#Primeiro elemento da lista contida na chave 1\n",
    "print(\"Chave 1 - 1o. elemento da lista: \", my_dict2[1][0])\n"
   ]
  },
  {
   "cell_type": "code",
   "execution_count": 21,
   "metadata": {},
   "outputs": [
    {
     "name": "stdout",
     "output_type": "stream",
     "text": [
      "{'nome': 'Ana', 1: [2, 4, 1000]}\n"
     ]
    }
   ],
   "source": [
    "my_dict2[1][2]=1000\n",
    "print(my_dict2)"
   ]
  },
  {
   "cell_type": "code",
   "execution_count": 22,
   "metadata": {},
   "outputs": [
    {
     "name": "stdout",
     "output_type": "stream",
     "text": [
      "{'nome': 'Ana'}\n"
     ]
    }
   ],
   "source": [
    "del(my_dict2[1])\n",
    "print(my_dict2)"
   ]
  },
  {
   "cell_type": "code",
   "execution_count": 23,
   "metadata": {},
   "outputs": [
    {
     "name": "stdout",
     "output_type": "stream",
     "text": [
      "{}\n"
     ]
    }
   ],
   "source": [
    "#Ao apagar a última chave, resulta num dicionário vazio.\n",
    "del(my_dict2[\"nome\"])\n",
    "print(my_dict2)"
   ]
  },
  {
   "cell_type": "code",
   "execution_count": 24,
   "metadata": {},
   "outputs": [
    {
     "ename": "NameError",
     "evalue": "name 'my_dict2' is not defined",
     "output_type": "error",
     "traceback": [
      "\u001b[1;31m---------------------------------------------------------------------------\u001b[0m",
      "\u001b[1;31mNameError\u001b[0m                                 Traceback (most recent call last)",
      "\u001b[1;32m<ipython-input-24-b35375a877cc>\u001b[0m in \u001b[0;36m<module>\u001b[1;34m\u001b[0m\n\u001b[0;32m      1\u001b[0m \u001b[1;31m#Ao apagar o dicionário e tentarmos acessá-lo obteremos um erro\u001b[0m\u001b[1;33m\u001b[0m\u001b[1;33m\u001b[0m\u001b[1;33m\u001b[0m\u001b[0m\n\u001b[0;32m      2\u001b[0m \u001b[1;32mdel\u001b[0m\u001b[1;33m(\u001b[0m\u001b[0mmy_dict2\u001b[0m\u001b[1;33m)\u001b[0m\u001b[1;33m\u001b[0m\u001b[1;33m\u001b[0m\u001b[0m\n\u001b[1;32m----> 3\u001b[1;33m \u001b[0mprint\u001b[0m\u001b[1;33m(\u001b[0m\u001b[0mmy_dict2\u001b[0m\u001b[1;33m)\u001b[0m\u001b[1;33m\u001b[0m\u001b[1;33m\u001b[0m\u001b[0m\n\u001b[0m",
      "\u001b[1;31mNameError\u001b[0m: name 'my_dict2' is not defined"
     ]
    }
   ],
   "source": [
    "#Ao apagar o dicionário e tentarmos acessá-lo obteremos um erro\n",
    "del(my_dict2)\n",
    "print(my_dict2)"
   ]
  },
  {
   "cell_type": "markdown",
   "metadata": {},
   "source": [
    "# Conjuntos (sets)"
   ]
  },
  {
   "cell_type": "markdown",
   "metadata": {},
   "source": [
    "Um conjunto em Python é similar a um conjunto na matemática. Não pode conter elementos duplicados. Para definir um conjunto usamos \"{\" e \"}\". Ex: meu_conjunto = {5,8,10}<BR>\n",
    "   Os elementos de um conjunto não podem ser acessados individualmente como numa lista ou dicionário. No entanto, existem várias operações úteis que são definidas sobre conjuntos (união, intersecção, diferença, pertinência de um elemento, contém/está contido) "
   ]
  },
  {
   "cell_type": "code",
   "execution_count": null,
   "metadata": {},
   "outputs": [],
   "source": [
    "#Podemos definir um conjunto de duas formas\n",
    "set1 = set([1,2,3]) #usando o método set para definir um conjunto a partir de uma lista\n",
    "set2 = {2,3,5}  #ou diretamente, entre chaves com os elementos separados por vírgulas\n",
    "print(set1)\n",
    "print(set2)"
   ]
  },
  {
   "cell_type": "code",
   "execution_count": null,
   "metadata": {},
   "outputs": [],
   "source": [
    "#União\n",
    "set3 = set1.union(set2)\n",
    "print(set3)"
   ]
  },
  {
   "cell_type": "code",
   "execution_count": null,
   "metadata": {},
   "outputs": [],
   "source": [
    "#Intersecção\n",
    "set4 = set1.intersection(set2)\n",
    "print(set4)"
   ]
  },
  {
   "cell_type": "code",
   "execution_count": null,
   "metadata": {},
   "outputs": [],
   "source": [
    "#Diferença\n",
    "set5= set3.difference(set1)\n",
    "print(set1)"
   ]
  },
  {
   "cell_type": "code",
   "execution_count": null,
   "metadata": {},
   "outputs": [],
   "source": [
    "#Pertinência\n",
    "x = 5\n",
    "if x in set1:\n",
    "    print(\"Pertence\")\n",
    "else:\n",
    "    print(\"Não pertence\")"
   ]
  },
  {
   "cell_type": "code",
   "execution_count": null,
   "metadata": {},
   "outputs": [],
   "source": [
    "#é subconjunto?\n",
    "set1.issubset(set3)"
   ]
  },
  {
   "cell_type": "code",
   "execution_count": null,
   "metadata": {},
   "outputs": [],
   "source": [
    "#é superconjunto?\n",
    "set1.issuperset(set3)"
   ]
  },
  {
   "cell_type": "code",
   "execution_count": null,
   "metadata": {},
   "outputs": [],
   "source": [
    "set3.issuperset(set1)"
   ]
  },
  {
   "cell_type": "markdown",
   "metadata": {},
   "source": [
    "# Tuplas"
   ]
  },
  {
   "cell_type": "markdown",
   "metadata": {},
   "source": [
    "Tupla é também um tipo de dados básico do Python. Uma tupla é semelhante a uma lista. No entanto, seus elementos são imutáveis. Para definir uma tupla (dupla,tripla,quádrupla etc.) usamos seus elementos entre \"(\" e \")\" separados por vírgula como no exemplo abaixo."
   ]
  },
  {
   "cell_type": "code",
   "execution_count": null,
   "metadata": {},
   "outputs": [],
   "source": [
    "minha_tupla = (4,9,3)\n",
    "print(minha_tupla)"
   ]
  },
  {
   "cell_type": "code",
   "execution_count": null,
   "metadata": {},
   "outputs": [],
   "source": [
    "#Podemos acessar os elementos de uma tupla com uma sintaxe similar ao acesso de elementos de listas\n",
    "print(minha_tupla[0])\n",
    "print(minha_tupla[2])"
   ]
  },
  {
   "cell_type": "code",
   "execution_count": null,
   "metadata": {},
   "outputs": [],
   "source": [
    "#No entanto, não podemos mudar os valores de uma tupla\n",
    "minha_tupla[0]=10"
   ]
  },
  {
   "cell_type": "markdown",
   "metadata": {},
   "source": [
    "Aqui terminamos de apresentar os tipos de dados básicos embutidos no Python. Vamos relembrar:<BR>\n",
    "    Listas  - Ex: lista=[4,5,\"cachorro\"]  <BR>\n",
    "    Dicionários - Ex: dic = {nome:\"Fulano de Tal\",\"idade\":41,\"peso\":80}  <BR>\n",
    "    Conjuntos - Ex: conjunto = {4,5,10}  <BR>\n",
    "    Tuplas = Ex: minha_tupla = (10,20) <BR>\n",
    "             outra_tupla = (\"Campinas\",\"Brasília\")<BR>"
   ]
  },
  {
   "cell_type": "markdown",
   "metadata": {},
   "source": [
    "# Funções"
   ]
  },
  {
   "cell_type": "markdown",
   "metadata": {},
   "source": [
    "Uma função é um bloco de código organizado que pode ser usado várias vezes no seu programa. Definir funções para as operações que você faz mais frequentemente torna seu código reutilizável e mais organizado. Como você já sabe, há várias funções pré-definidas no Python (Ex: print, sum, min, max etc.). No entanto, também podemos definir nossas próprias funções. <BR>\n",
    "    Uma função é definida usando a cláusula \"def\" seguida de um espaço, o nome da função e os argumentos que a função irá usar. Geralmente queremos que uma função retorne um valor para ser usado fora dela. O valor de retorno é definido usando o método return. Veja alguns exemplos de funções."
   ]
  },
  {
   "cell_type": "code",
   "execution_count": 25,
   "metadata": {},
   "outputs": [],
   "source": [
    "#Definição de uma função soma que retorna a soma de três valores\n",
    "def soma(a,b,c):\n",
    "    return a+b+c"
   ]
  },
  {
   "cell_type": "code",
   "execution_count": 26,
   "metadata": {},
   "outputs": [
    {
     "name": "stdout",
     "output_type": "stream",
     "text": [
      "15\n"
     ]
    }
   ],
   "source": [
    "resultado = soma(4,10,1)\n",
    "print(resultado)"
   ]
  },
  {
   "cell_type": "code",
   "execution_count": 27,
   "metadata": {},
   "outputs": [
    {
     "name": "stdout",
     "output_type": "stream",
     "text": [
      "4 10 1 15\n"
     ]
    }
   ],
   "source": [
    "#Observe que os argumentos na chamada da função são argumentos posicionais.\n",
    "#Não precisam ter os mesmos nomes da lista de argumentos da cláusula def\n",
    "def soma(a,b,c):\n",
    "    return a+b+c\n",
    "\n",
    "x=4\n",
    "y=10\n",
    "z=1\n",
    "s = soma(x,y,z)\n",
    "print (x,y,z,s)\n",
    "    "
   ]
  },
  {
   "cell_type": "code",
   "execution_count": 28,
   "metadata": {},
   "outputs": [],
   "source": [
    "#Na aula passada, fizemos um trecho de código que calculava o reverso_complementar de uma sequência de DNA. Vamos colocar este código numa função\n",
    "def reverso_complementar(sequencia):\n",
    "    complemento=\"\"\n",
    "    for x in sequencia:\n",
    "        if x==\"G\":\n",
    "            complemento = complemento + \"C\"\n",
    "        elif x==\"C\":\n",
    "            complemento = complemento + \"G\"\n",
    "        elif x == \"A\":\n",
    "            complemento = complemento + \"T\"\n",
    "        elif x == \"T\":\n",
    "            complemento = complemento + \"A\"\n",
    "    revcomp=''.join(reversed(complemento))\n",
    "    return revcomp"
   ]
  },
  {
   "cell_type": "code",
   "execution_count": 29,
   "metadata": {},
   "outputs": [
    {
     "name": "stdout",
     "output_type": "stream",
     "text": [
      "ACTGGGTCACTCTGCTGT\n"
     ]
    }
   ],
   "source": [
    "#Sequências de DNA são strings sobre o alfabeto {A,C,G,T}\n",
    "dna = \"ACAGCAGAGTGACCCAGT\"\n",
    "print(reverso_complementar(dna))"
   ]
  },
  {
   "cell_type": "code",
   "execution_count": 30,
   "metadata": {},
   "outputs": [
    {
     "name": "stdout",
     "output_type": "stream",
     "text": [
      "TACCTGCGT\n"
     ]
    }
   ],
   "source": [
    "#Uma vez definida uma função, podemos chamá-la várias vezes\n",
    "print(reverso_complementar(\"ACGCAGGTA\"))"
   ]
  },
  {
   "cell_type": "code",
   "execution_count": null,
   "metadata": {},
   "outputs": [],
   "source": [
    "#Vamos definir uma função que retorna o produto escalar de dois vetores(listas)\n",
    "def escalar(X,Y):\n",
    "    tamanho_x=len(X)\n",
    "    tamanho_y=len(Y)\n",
    "    s = 0\n",
    "    if tamanho_x == tamanho_y:\n",
    "        for i in range(tamanho_x):\n",
    "            s = s + X[i]*Y[i]\n",
    "        return s\n",
    "    else:\n",
    "        s=\"tamanho dos vetores é diferente\"\n",
    "        return s\n",
    "\n",
    "X=[1,4,5]\n",
    "Y=[3,6,7]\n",
    "e = escalar(X,Y)\n",
    "print(e)"
   ]
  },
  {
   "cell_type": "code",
   "execution_count": null,
   "metadata": {},
   "outputs": [],
   "source": [
    "#Vamos definir um dicionário com nome,e-mail e telefone de um contato\n",
    "contato = {'nome':\"José da Silva\",'email':\"alguem@algumlugar.com\",'telefone':'(19)3521-0000'}\n",
    "print(contato)"
   ]
  },
  {
   "cell_type": "code",
   "execution_count": null,
   "metadata": {},
   "outputs": [],
   "source": [
    "#Seria interessante ter uma função para imprimir as informações de um contato de forma mais amigável\n",
    "#Vamos fazê-la abaixo\n",
    "#Podemos definir uma função para imprimir contatos na tela de uma forma mais agradável\n",
    "def imprime_contato(cont):\n",
    "    print(f\"Nome: {cont['nome']}\")\n",
    "    print(f\"E-mail: {cont['email']}\")\n",
    "    print(f\"Login: {cont['email'].split('@')[0]}\")\n",
    "    print(f\"Domínio: {cont['email'].split('@')[1]}\") #Observe o uso da função split para dividir uma string por um separador\n",
    "    print(f\"Telefone: {cont['telefone']}\")\n",
    "    print(\"\")"
   ]
  },
  {
   "cell_type": "code",
   "execution_count": null,
   "metadata": {},
   "outputs": [],
   "source": [
    "imprime_contato(contato)"
   ]
  },
  {
   "cell_type": "code",
   "execution_count": null,
   "metadata": {},
   "outputs": [],
   "source": [
    "#Podemos definir uma lista de dicionários (contatos) e usar a função imprime_contato para imprimir cada item da lista\n",
    "agenda = [ {'nome':\"José da Silva\",'email':\"alguem@algumlugar.com\",'telefone':'(19)3521-0000'},\n",
    "          {'nome':\"Ana Maria\",'email':\"ana@gmail.com\",'telefone':'(11)3386-1234'},\n",
    "          {'nome':\"Clayton Camargo\",'email':\"ccamargo@hotmail.com\",'telefone':'(12)3511-8546'},\n",
    "          {'nome':\"João Pereira\",'email':\"jprereira@yahoo.com\",'telefone':'(71)3282-0101'}\n",
    "         ]\n",
    "for c in agenda:\n",
    "    imprime_contato(c)"
   ]
  },
  {
   "cell_type": "markdown",
   "metadata": {},
   "source": [
    "# Exercício 1"
   ]
  },
  {
   "cell_type": "markdown",
   "metadata": {},
   "source": [
    "1.1) Defina uma função chamada imc que receba como argumentos altura (em metros) e peso (em Kg) e retorne o IMC (Índice de Massa Corpórea). IMC = peso / altura * altura <BR>\n",
    "1.2) Defina uma função que receba o imc calculado com a função acima e retorne \"magro\",\"normal\",\"sobrepeso\",\"obeso\" conforme o IMC<BR><BR>\n",
    "magro: <20  <BR>\n",
    "normal: >=20 e <25  <BR>\n",
    "sobrepeso: >=25 e <30  <BR>\n",
    "obeso: >=30  <BR>\n"
   ]
  },
  {
   "cell_type": "code",
   "execution_count": null,
   "metadata": {},
   "outputs": [],
   "source": []
  },
  {
   "cell_type": "markdown",
   "metadata": {},
   "source": [
    "# Exercício 2"
   ]
  },
  {
   "cell_type": "markdown",
   "metadata": {},
   "source": [
    "2.1) Defina um dicionário com a latitude e longitude de 6 quaisquer cidades brasileiras\n",
    "O nome das cidades deve ser a chave do dicionário e o valor deve ser uma tupla\n",
    "\n",
    "Ex: cidades={'City1':(50.5,-12),'City2':(10,-13) ... }\n",
    "\n",
    "Obtenha(salve no seu desktop) os dados a partir de um arquivo com coordenadas das cidades brasileiras baixado de:\n",
    "https://raw.githubusercontent.com/kelvins/Municipios-Brasileiros/master/municipios_brasileiros.csv\n",
    "\n",
    "Sugestão (No terminal): wget https://raw.githubusercontent.com/kelvins/Municipios-Brasileiros/master/municipios_brasileiros.csv\n",
    "\n",
    "2.2) Gere uma lista de tuplas (x,y) representando todos os pares de cidades, sendo obrigatoriamente x < y em ordem alfabética. Você pode usar laços for (um dentro do outro para gerar esta lista ou fazer tudo em uma única linha usando list comprehension. No final você deve ter uma lista de pares como a abaixo (só que p/ 6 cidades)<BR>\n",
    "pares = [ (\"Aracaju\",\"Brasília\"), (\"Aracaju\",\"Campinas\"), (\"Brasília\",\"Campinas\") ]\n",
    "\n",
    "2.3) Num for, itere sobre a lista de pares de cidades e imprima a distância entre elas de acordo com a função distance\n",
    "Seu for deve imprimir para cada par de cidades uma string no seguinte formato:\n",
    "\"Distância de Aracaju até Brasília é de XXXX km\"\n",
    "\n",
    "2.4) Defina um conjunto (set) apenas com o nome das 6 cidades<BR>\n",
    "conj_cidades = {\"cidade1\",\"cidade2\",...,\"cidade6\")<BR>\n",
    "\n",
    "2.5) Defina outro conjunto com o nome das mesmas 6 cidades acima e mais 4 outras\n",
    "\n",
    "2.6) Exercite as operações de intersecção, união e direferença de conjuntos"
   ]
  },
  {
   "cell_type": "code",
   "execution_count": null,
   "metadata": {},
   "outputs": [],
   "source": [
    "#Para facilitar, use esta rotina já pronta que computa a distância entre dois pontos dadas duas tuplas de (latitude,longitude)\n",
    "#Código obtido de https://gist.github.com/rochacbruno/2883505\n",
    "import math\n",
    "def distance(origin, destination):\n",
    "    lat1, lon1 = origin\n",
    "    lat2, lon2 = destination\n",
    "    radius = 6371 # raio da terra em km\n",
    "\n",
    "    dlat = math.radians(lat2-lat1)\n",
    "    dlon = math.radians(lon2-lon1)\n",
    "    a = math.sin(dlat/2) * math.sin(dlat/2) + math.cos(math.radians(lat1)) \\\n",
    "        * math.cos(math.radians(lat2)) * math.sin(dlon/2) * math.sin(dlon/2)\n",
    "    c = 2 * math.atan2(math.sqrt(a), math.sqrt(1-a))\n",
    "    d = radius * c\n",
    "\n",
    "    return d"
   ]
  },
  {
   "cell_type": "code",
   "execution_count": null,
   "metadata": {},
   "outputs": [],
   "source": [
    "#Defina um dicionário com 6 cidades. O dicionário abaixo contém três. Pegue mais três quaisquer do arquivo e complete abaixo\n",
    "cidades = {'Aracaju':(-10.9091,-37.0677), 'Campinas':(-22.9053,-47.0659), 'Brasília':(-15.7795,-47.9297)}"
   ]
  },
  {
   "cell_type": "code",
   "execution_count": null,
   "metadata": {},
   "outputs": [],
   "source": []
  },
  {
   "cell_type": "markdown",
   "metadata": {},
   "source": [
    "Respostas abaixo (tente fazer antes de olhar)\n",
    "<BR><BR><BR><BR><BR><BR><BR><BR><BR><BR><BR><BR><BR><BR><BR><BR><BR><BR><BR><BR><BR><BR><BR><BR><BR><BR><BR><BR><BR><BR><BR>\n",
    "   <BR><BR><BR><BR><BR>"
   ]
  },
  {
   "cell_type": "code",
   "execution_count": null,
   "metadata": {},
   "outputs": [],
   "source": [
    "pares = [(a,b) for a in cidades for b in cidades if a != b and a < b]\n",
    "for x,y in pares:\n",
    "    dist = distance(cidades[x],cidades[y])\n",
    "    print(f\"Distância de {x} a {y} é de {dist} km\")"
   ]
  },
  {
   "cell_type": "code",
   "execution_count": null,
   "metadata": {},
   "outputs": [],
   "source": [
    "conj_cidades=set(cidades)\n",
    "print(conj_cidades)"
   ]
  },
  {
   "cell_type": "code",
   "execution_count": null,
   "metadata": {},
   "outputs": [],
   "source": []
  }
 ],
 "metadata": {
  "kernelspec": {
   "display_name": "Python 3",
   "language": "python",
   "name": "python3"
  },
  "language_info": {
   "codemirror_mode": {
    "name": "ipython",
    "version": 3
   },
   "file_extension": ".py",
   "mimetype": "text/x-python",
   "name": "python",
   "nbconvert_exporter": "python",
   "pygments_lexer": "ipython3",
   "version": "3.7.4"
  }
 },
 "nbformat": 4,
 "nbformat_minor": 2
}
